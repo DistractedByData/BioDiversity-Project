{
 "cells": [
  {
   "cell_type": "markdown",
   "metadata": {},
   "source": [
    "# Analyzing Biodiversity and Conservation Status in National Parks."
   ]
  },
  {
   "cell_type": "markdown",
   "metadata": {},
   "source": [
    "## Introduction:\n",
    "\n",
    "This is my second python project shared on Github. I will explore and perform data analysis on 2 datasets, sourced from the National Parks Service.\n",
    "\n",
    "### Goals:\n",
    "I will be looking to answer more questions as I begin exploring the data, but these questions will guide my intial exploration:\n",
    "\n",
    "- What is the distribution of `conservation_status` for animals?  \n",
    "- Are certain types of species more likely to be endangered?  \n",
    "- Are the differences between species and their conservation status significant?  \n",
    "- Which species were spotted the most at each park?"
   ]
  },
  {
   "cell_type": "markdown",
   "metadata": {},
   "source": [
    "### Raw Data Files:"
   ]
  },
  {
   "cell_type": "markdown",
   "metadata": {},
   "source": [
    "**species_info.csv** - contains data about different species and their conservation status.  \n",
    "`category` - class of animal  \n",
    "`scientific_name` - the scientific name of each species  \n",
    "`common_name` - the common names of each species  \n",
    "`conservation_status` - each species' current conservation status  \n",
    "\n",
    "**observations.csv** - holds recorded sightings of different species at several national parks for the past 7 days.  \n",
    "`scientific_name` - the scientific name of each species  \n",
    "`park_name` - park where species were found  \n",
    "`observations` - the number of times each species was observed at the park"
   ]
  },
  {
   "cell_type": "markdown",
   "metadata": {},
   "source": [
    "## Load CSV Files: inspect first 10 rows."
   ]
  },
  {
   "cell_type": "markdown",
   "metadata": {},
   "source": [
    "During my review of the column names, I have decided not to name the DataFrame 'Observations' due to the identical column name. To avoid confusion, I will instead use 'tracking' as a synonym instead of observations."
   ]
  },
  {
   "cell_type": "code",
   "execution_count": 1,
   "metadata": {},
   "outputs": [],
   "source": [
    "import pandas as pd\n",
    "import numpy as np\n",
    "import matplotlib.pyplot as plt\n",
    "import seaborn as sns"
   ]
  },
  {
   "cell_type": "code",
   "execution_count": 2,
   "metadata": {},
   "outputs": [],
   "source": [
    "species_df = pd.read_csv(\"~/Desktop/GitHub/BioDiversity-Project/Analysis/species_info.csv\")\n",
    "tracking_df = pd.read_csv(\"~/Desktop/GitHub/BioDiversity-Project/Analysis/observations.csv\")"
   ]
  },
  {
   "cell_type": "code",
   "execution_count": 3,
   "metadata": {},
   "outputs": [
    {
     "data": {
      "text/html": [
       "<div>\n",
       "<style scoped>\n",
       "    .dataframe tbody tr th:only-of-type {\n",
       "        vertical-align: middle;\n",
       "    }\n",
       "\n",
       "    .dataframe tbody tr th {\n",
       "        vertical-align: top;\n",
       "    }\n",
       "\n",
       "    .dataframe thead th {\n",
       "        text-align: right;\n",
       "    }\n",
       "</style>\n",
       "<table border=\"1\" class=\"dataframe\">\n",
       "  <thead>\n",
       "    <tr style=\"text-align: right;\">\n",
       "      <th></th>\n",
       "      <th>category</th>\n",
       "      <th>scientific_name</th>\n",
       "      <th>common_names</th>\n",
       "      <th>conservation_status</th>\n",
       "    </tr>\n",
       "  </thead>\n",
       "  <tbody>\n",
       "    <tr>\n",
       "      <th>0</th>\n",
       "      <td>Mammal</td>\n",
       "      <td>Clethrionomys gapperi gapperi</td>\n",
       "      <td>Gapper's Red-Backed Vole</td>\n",
       "      <td>NaN</td>\n",
       "    </tr>\n",
       "    <tr>\n",
       "      <th>1</th>\n",
       "      <td>Mammal</td>\n",
       "      <td>Bos bison</td>\n",
       "      <td>American Bison, Bison</td>\n",
       "      <td>NaN</td>\n",
       "    </tr>\n",
       "    <tr>\n",
       "      <th>2</th>\n",
       "      <td>Mammal</td>\n",
       "      <td>Bos taurus</td>\n",
       "      <td>Aurochs, Aurochs, Domestic Cattle (Feral), Dom...</td>\n",
       "      <td>NaN</td>\n",
       "    </tr>\n",
       "    <tr>\n",
       "      <th>3</th>\n",
       "      <td>Mammal</td>\n",
       "      <td>Ovis aries</td>\n",
       "      <td>Domestic Sheep, Mouflon, Red Sheep, Sheep (Feral)</td>\n",
       "      <td>NaN</td>\n",
       "    </tr>\n",
       "    <tr>\n",
       "      <th>4</th>\n",
       "      <td>Mammal</td>\n",
       "      <td>Cervus elaphus</td>\n",
       "      <td>Wapiti Or Elk</td>\n",
       "      <td>NaN</td>\n",
       "    </tr>\n",
       "  </tbody>\n",
       "</table>\n",
       "</div>"
      ],
      "text/plain": [
       "  category                scientific_name  \\\n",
       "0   Mammal  Clethrionomys gapperi gapperi   \n",
       "1   Mammal                      Bos bison   \n",
       "2   Mammal                     Bos taurus   \n",
       "3   Mammal                     Ovis aries   \n",
       "4   Mammal                 Cervus elaphus   \n",
       "\n",
       "                                        common_names conservation_status  \n",
       "0                           Gapper's Red-Backed Vole                 NaN  \n",
       "1                              American Bison, Bison                 NaN  \n",
       "2  Aurochs, Aurochs, Domestic Cattle (Feral), Dom...                 NaN  \n",
       "3  Domestic Sheep, Mouflon, Red Sheep, Sheep (Feral)                 NaN  \n",
       "4                                      Wapiti Or Elk                 NaN  "
      ]
     },
     "execution_count": 3,
     "metadata": {},
     "output_type": "execute_result"
    }
   ],
   "source": [
    "species_df.head()"
   ]
  },
  {
   "cell_type": "code",
   "execution_count": 4,
   "metadata": {},
   "outputs": [
    {
     "data": {
      "text/plain": [
       "category               object\n",
       "scientific_name        object\n",
       "common_names           object\n",
       "conservation_status    object\n",
       "dtype: object"
      ]
     },
     "execution_count": 4,
     "metadata": {},
     "output_type": "execute_result"
    }
   ],
   "source": [
    "species_df.dtypes"
   ]
  },
  {
   "cell_type": "code",
   "execution_count": 5,
   "metadata": {},
   "outputs": [
    {
     "data": {
      "text/html": [
       "<div>\n",
       "<style scoped>\n",
       "    .dataframe tbody tr th:only-of-type {\n",
       "        vertical-align: middle;\n",
       "    }\n",
       "\n",
       "    .dataframe tbody tr th {\n",
       "        vertical-align: top;\n",
       "    }\n",
       "\n",
       "    .dataframe thead th {\n",
       "        text-align: right;\n",
       "    }\n",
       "</style>\n",
       "<table border=\"1\" class=\"dataframe\">\n",
       "  <thead>\n",
       "    <tr style=\"text-align: right;\">\n",
       "      <th></th>\n",
       "      <th>scientific_name</th>\n",
       "      <th>park_name</th>\n",
       "      <th>observations</th>\n",
       "    </tr>\n",
       "  </thead>\n",
       "  <tbody>\n",
       "    <tr>\n",
       "      <th>0</th>\n",
       "      <td>Vicia benghalensis</td>\n",
       "      <td>Great Smoky Mountains National Park</td>\n",
       "      <td>68</td>\n",
       "    </tr>\n",
       "    <tr>\n",
       "      <th>1</th>\n",
       "      <td>Neovison vison</td>\n",
       "      <td>Great Smoky Mountains National Park</td>\n",
       "      <td>77</td>\n",
       "    </tr>\n",
       "    <tr>\n",
       "      <th>2</th>\n",
       "      <td>Prunus subcordata</td>\n",
       "      <td>Yosemite National Park</td>\n",
       "      <td>138</td>\n",
       "    </tr>\n",
       "    <tr>\n",
       "      <th>3</th>\n",
       "      <td>Abutilon theophrasti</td>\n",
       "      <td>Bryce National Park</td>\n",
       "      <td>84</td>\n",
       "    </tr>\n",
       "    <tr>\n",
       "      <th>4</th>\n",
       "      <td>Githopsis specularioides</td>\n",
       "      <td>Great Smoky Mountains National Park</td>\n",
       "      <td>85</td>\n",
       "    </tr>\n",
       "  </tbody>\n",
       "</table>\n",
       "</div>"
      ],
      "text/plain": [
       "            scientific_name                            park_name  observations\n",
       "0        Vicia benghalensis  Great Smoky Mountains National Park            68\n",
       "1            Neovison vison  Great Smoky Mountains National Park            77\n",
       "2         Prunus subcordata               Yosemite National Park           138\n",
       "3      Abutilon theophrasti                  Bryce National Park            84\n",
       "4  Githopsis specularioides  Great Smoky Mountains National Park            85"
      ]
     },
     "execution_count": 5,
     "metadata": {},
     "output_type": "execute_result"
    }
   ],
   "source": [
    "tracking_df.head()"
   ]
  },
  {
   "cell_type": "code",
   "execution_count": 6,
   "metadata": {},
   "outputs": [
    {
     "data": {
      "text/plain": [
       "scientific_name    object\n",
       "park_name          object\n",
       "observations        int64\n",
       "dtype: object"
      ]
     },
     "execution_count": 6,
     "metadata": {},
     "output_type": "execute_result"
    }
   ],
   "source": [
    "tracking_df.dtypes"
   ]
  },
  {
   "cell_type": "markdown",
   "metadata": {},
   "source": [
    "## Digging into the missing data."
   ]
  },
  {
   "cell_type": "markdown",
   "metadata": {},
   "source": [
    "I only see `NaN` values in  **species_df** for the column `conservation_status`- this will be something to look into a bit deeper as I begin to clean the data.  \n",
    "*I also see that both df's contain the column `scientific_name`. This will be useful to act as a primary key, linking both tables by a shared relation if I choose to join both df's.*\n",
    "\n",
    "**For now, though, I want to continue exploring the data while looking more into each column to see if any others contain NaN, or other possible issues that could be addressed with data cleaning.**"
   ]
  },
  {
   "cell_type": "code",
   "execution_count": 7,
   "metadata": {},
   "outputs": [
    {
     "data": {
      "text/plain": [
       "(Index(['category', 'scientific_name', 'common_names', 'conservation_status'], dtype='object'),\n",
       " (5824, 4))"
      ]
     },
     "execution_count": 7,
     "metadata": {},
     "output_type": "execute_result"
    }
   ],
   "source": [
    "species_df_shape = species_df.columns, species_df.shape\n",
    "\n",
    "species_df_shape"
   ]
  },
  {
   "cell_type": "code",
   "execution_count": 8,
   "metadata": {},
   "outputs": [
    {
     "data": {
      "text/plain": [
       "(Index(['scientific_name', 'park_name', 'observations'], dtype='object'),\n",
       " (23296, 3))"
      ]
     },
     "execution_count": 8,
     "metadata": {},
     "output_type": "execute_result"
    }
   ],
   "source": [
    "tracking_df_shape = tracking_df.columns, tracking_df.shape\n",
    "\n",
    "tracking_df_shape "
   ]
  },
  {
   "cell_type": "code",
   "execution_count": 9,
   "metadata": {},
   "outputs": [
    {
     "data": {
      "text/plain": [
       "conservation_status    5633\n",
       "category                  0\n",
       "scientific_name           0\n",
       "common_names              0\n",
       "dtype: int64"
      ]
     },
     "execution_count": 9,
     "metadata": {},
     "output_type": "execute_result"
    }
   ],
   "source": [
    "species_null = species_df.isnull().sum().sort_values(ascending=False)\n",
    "\n",
    "species_null"
   ]
  },
  {
   "cell_type": "code",
   "execution_count": 10,
   "metadata": {},
   "outputs": [
    {
     "name": "stdout",
     "output_type": "stream",
     "text": [
      "96.72% of the rows in the conservation_status column are null.\n"
     ]
    }
   ],
   "source": [
    "total_rows, total_col = species_df.shape\n",
    "null_rows = species_null[0]\n",
    "null_per = (null_rows/total_rows) *100\n",
    "\n",
    "print(f\"{null_per.round(3)}% of the rows in the conservation_status column are null.\")"
   ]
  },
  {
   "cell_type": "code",
   "execution_count": 11,
   "metadata": {},
   "outputs": [
    {
     "data": {
      "text/plain": [
       "scientific_name    0\n",
       "park_name          0\n",
       "observations       0\n",
       "dtype: int64"
      ]
     },
     "execution_count": 11,
     "metadata": {},
     "output_type": "execute_result"
    }
   ],
   "source": [
    "tracking_null = tracking_df.isnull().sum().sort_values(ascending=False)\n",
    "\n",
    "tracking_null"
   ]
  },
  {
   "cell_type": "markdown",
   "metadata": {},
   "source": [
    "**Diving deeper I see a majority of the rows in the `conservation_status` column have null values. I want to know if the missing values are: systematic, MAR, MCAR, or MNAR? Without much domain knowledge, I will look closer at the non-null values.**"
   ]
  },
  {
   "cell_type": "code",
   "execution_count": 12,
   "metadata": {},
   "outputs": [
    {
     "name": "stdout",
     "output_type": "stream",
     "text": [
      "conservation_types: [nan 'Species of Concern' 'Endangered' 'Threatened' 'In Recovery']\n"
     ]
    },
    {
     "data": {
      "text/plain": [
       "Species of Concern    161\n",
       "Endangered             16\n",
       "Threatened             10\n",
       "In Recovery             4\n",
       "Name: conservation_status, dtype: int64"
      ]
     },
     "execution_count": 12,
     "metadata": {},
     "output_type": "execute_result"
    }
   ],
   "source": [
    "conservation_types = species_df['conservation_status'].unique()\n",
    "\n",
    "print(\"conservation_types:\", conservation_types)\n",
    "species_df['conservation_status'].value_counts()"
   ]
  },
  {
   "cell_type": "markdown",
   "metadata": {},
   "source": [
    "**`Conservation Status`** is an ordinal categorical variable with 4 categories: \n",
    "- Species of Concern, \n",
    "- Endangered, \n",
    "- Threatened, \n",
    "- In recovery. \n",
    " \n",
    "**It seems less surprising now, why there is a significant portion of null values (96.72%) - it is common for a species to not fit 1 of the 4 categories, which suggests that `NaN` values represent *no* conservation status,i.e. the species is not at risk.**\n",
    "\n",
    "This insight allows me to make an important assumption: that `NaN` values are systematically missing due to the dataset only recording conservation status for species known to be at risk. However, it is crucial to remember that this is an assumption, and I should seek to verify it throughout my analysis while ensuring the reader of the analysis is made aware, of this and all assumptions.\n",
    "\n",
    "To perform a more comprehensive analysis, I will modify the null values to represent a 'Healthy' conservation status, indicating that the species is not considered at risk. This relabeling allows us to include these records in our analysis without the need to fill the null values or delete the rows."
   ]
  },
  {
   "cell_type": "code",
   "execution_count": 13,
   "metadata": {},
   "outputs": [
    {
     "data": {
      "text/plain": [
       "Healthy               5633\n",
       "Species of Concern     161\n",
       "Endangered              16\n",
       "Threatened              10\n",
       "In Recovery              4\n",
       "Name: conservation_status, dtype: int64"
      ]
     },
     "execution_count": 13,
     "metadata": {},
     "output_type": "execute_result"
    }
   ],
   "source": [
    "species_df['conservation_status'] = species_df['conservation_status'].fillna('Healthy').astype('category')\n",
    "con_status = species_df['conservation_status'].astype('category')\n",
    "\n",
    "labels = con_status.unique()\n",
    "con_status_counts = con_status.value_counts()\n",
    "\n",
    "con_status_counts"
   ]
  },
  {
   "cell_type": "code",
   "execution_count": 14,
   "metadata": {},
   "outputs": [
    {
     "data": {
      "text/plain": [
       "Healthy               96.720467\n",
       "Species of Concern     2.764423\n",
       "Endangered             0.274725\n",
       "Threatened             0.171703\n",
       "In Recovery            0.068681\n",
       "Name: conservation_status, dtype: float64"
      ]
     },
     "execution_count": 14,
     "metadata": {},
     "output_type": "execute_result"
    }
   ],
   "source": [
    "prop = (con_status_counts/total_rows)*100\n",
    "\n",
    "prop"
   ]
  },
  {
   "cell_type": "markdown",
   "metadata": {},
   "source": [
    "## Some insight into Q1. What is the distribution of `conservation_status` for animals?  \n",
    "\n",
    "Before fully diving into Q1, I do want to quickly investigate the question with the current understanding so far established through the analysis up to this point. **Since I am not familiar with this dataset/domain of knowledge, I find it helpful to take extra time learning about the basic features, and how they relate.**\n",
    "\n",
    "For example, it is more obvious looking at the proportions above to understand the distribution of species this dataset contains. It prepares me for further EDA, where I'd be interested in learning more about the distribution of `conservation_status` by national park - maybe some parks are home to more at-risk species than other parks!\n",
    "\n",
    "### A visual of the `conservation_status` proportions:"
   ]
  },
  {
   "cell_type": "code",
   "execution_count": 15,
   "metadata": {},
   "outputs": [],
   "source": [
    "legend_labels = [f'{label} - {prop:.1f}%' for label, prop in zip(labels, prop)]"
   ]
  },
  {
   "cell_type": "code",
   "execution_count": 27,
   "metadata": {},
   "outputs": [
    {
     "data": {
      "image/png": "[encoded data removed]",
      "text/plain": [
       "<Figure size 640x480 with 1 Axes>"
      ]
     },
     "metadata": {},
     "output_type": "display_data"
    },
    {
     "data": {
      "text/plain": [
       "<Figure size 640x480 with 0 Axes>"
      ]
     },
     "metadata": {},
     "output_type": "display_data"
    }
   ],
   "source": [
    "plt.pie(con_status_counts)\n",
    "plt.title('Proportion of Conservation Status')\n",
    "plt.legend(legend_labels,bbox_to_anchor=(1, 0.5), loc='center left')\n",
    "\n",
    "plt.show()\n",
    "plt.clf()"
   ]
  },
  {
   "cell_type": "markdown",
   "metadata": {},
   "source": [
    "It is hard to see any color except for **blue** and **orange**, indicating the other values are much less frequent.\n",
    "\n",
    "With this additional understanding, I can think of 2 more questions I am interested in analyzing during EDA -- what is the proportion of `convservation_status` by:\n",
    "- `national_park`?; to investigate if some parks are more difficult for a species to survive in.\n",
    "- `category`?; to investigate if some categories of species have more difficulty surviving than others."
   ]
  },
  {
   "cell_type": "markdown",
   "metadata": {},
   "source": [
    "### Before performing in-depth EDA, I want to backup and finish the data cleaning.. I need to identify all duplicate rows."
   ]
  },
  {
   "cell_type": "code",
   "execution_count": 17,
   "metadata": {},
   "outputs": [
    {
     "data": {
      "text/plain": [
       "(0, 15)"
      ]
     },
     "execution_count": 17,
     "metadata": {},
     "output_type": "execute_result"
    }
   ],
   "source": [
    "s_dups = species_df.duplicated()\n",
    "t_dups = tracking_df.duplicated()\n",
    "\n",
    "s_dups.sum(), t_dups.sum()"
   ]
  },
  {
   "cell_type": "code",
   "execution_count": 18,
   "metadata": {},
   "outputs": [
    {
     "data": {
      "text/html": [
       "<div>\n",
       "<style scoped>\n",
       "    .dataframe tbody tr th:only-of-type {\n",
       "        vertical-align: middle;\n",
       "    }\n",
       "\n",
       "    .dataframe tbody tr th {\n",
       "        vertical-align: top;\n",
       "    }\n",
       "\n",
       "    .dataframe thead th {\n",
       "        text-align: right;\n",
       "    }\n",
       "</style>\n",
       "<table border=\"1\" class=\"dataframe\">\n",
       "  <thead>\n",
       "    <tr style=\"text-align: right;\">\n",
       "      <th></th>\n",
       "      <th>scientific_name</th>\n",
       "      <th>park_name</th>\n",
       "      <th>observations</th>\n",
       "    </tr>\n",
       "  </thead>\n",
       "  <tbody>\n",
       "    <tr>\n",
       "      <th>513</th>\n",
       "      <td>Arctium minus</td>\n",
       "      <td>Yosemite National Park</td>\n",
       "      <td>162</td>\n",
       "    </tr>\n",
       "    <tr>\n",
       "      <th>10674</th>\n",
       "      <td>Arctium minus</td>\n",
       "      <td>Yosemite National Park</td>\n",
       "      <td>162</td>\n",
       "    </tr>\n",
       "    <tr>\n",
       "      <th>4527</th>\n",
       "      <td>Botrychium virginianum</td>\n",
       "      <td>Yellowstone National Park</td>\n",
       "      <td>232</td>\n",
       "    </tr>\n",
       "    <tr>\n",
       "      <th>20294</th>\n",
       "      <td>Botrychium virginianum</td>\n",
       "      <td>Yellowstone National Park</td>\n",
       "      <td>232</td>\n",
       "    </tr>\n",
       "    <tr>\n",
       "      <th>19392</th>\n",
       "      <td>Cichorium intybus</td>\n",
       "      <td>Yellowstone National Park</td>\n",
       "      <td>266</td>\n",
       "    </tr>\n",
       "    <tr>\n",
       "      <th>14142</th>\n",
       "      <td>Cichorium intybus</td>\n",
       "      <td>Yellowstone National Park</td>\n",
       "      <td>266</td>\n",
       "    </tr>\n",
       "    <tr>\n",
       "      <th>7263</th>\n",
       "      <td>Echinochloa crus-galli</td>\n",
       "      <td>Great Smoky Mountains National Park</td>\n",
       "      <td>62</td>\n",
       "    </tr>\n",
       "    <tr>\n",
       "      <th>1454</th>\n",
       "      <td>Echinochloa crus-galli</td>\n",
       "      <td>Great Smoky Mountains National Park</td>\n",
       "      <td>62</td>\n",
       "    </tr>\n",
       "    <tr>\n",
       "      <th>1020</th>\n",
       "      <td>Eleocharis palustris</td>\n",
       "      <td>Great Smoky Mountains National Park</td>\n",
       "      <td>62</td>\n",
       "    </tr>\n",
       "    <tr>\n",
       "      <th>12381</th>\n",
       "      <td>Eleocharis palustris</td>\n",
       "      <td>Great Smoky Mountains National Park</td>\n",
       "      <td>62</td>\n",
       "    </tr>\n",
       "    <tr>\n",
       "      <th>1032</th>\n",
       "      <td>Hesperis matronalis</td>\n",
       "      <td>Bryce National Park</td>\n",
       "      <td>124</td>\n",
       "    </tr>\n",
       "    <tr>\n",
       "      <th>13372</th>\n",
       "      <td>Hesperis matronalis</td>\n",
       "      <td>Bryce National Park</td>\n",
       "      <td>124</td>\n",
       "    </tr>\n",
       "    <tr>\n",
       "      <th>4178</th>\n",
       "      <td>Monotropa hypopithys</td>\n",
       "      <td>Great Smoky Mountains National Park</td>\n",
       "      <td>73</td>\n",
       "    </tr>\n",
       "    <tr>\n",
       "      <th>20820</th>\n",
       "      <td>Monotropa hypopithys</td>\n",
       "      <td>Great Smoky Mountains National Park</td>\n",
       "      <td>73</td>\n",
       "    </tr>\n",
       "    <tr>\n",
       "      <th>10038</th>\n",
       "      <td>Plantago major</td>\n",
       "      <td>Great Smoky Mountains National Park</td>\n",
       "      <td>90</td>\n",
       "    </tr>\n",
       "    <tr>\n",
       "      <th>365</th>\n",
       "      <td>Plantago major</td>\n",
       "      <td>Great Smoky Mountains National Park</td>\n",
       "      <td>90</td>\n",
       "    </tr>\n",
       "    <tr>\n",
       "      <th>18141</th>\n",
       "      <td>Poa compressa</td>\n",
       "      <td>Great Smoky Mountains National Park</td>\n",
       "      <td>80</td>\n",
       "    </tr>\n",
       "    <tr>\n",
       "      <th>13097</th>\n",
       "      <td>Poa compressa</td>\n",
       "      <td>Great Smoky Mountains National Park</td>\n",
       "      <td>80</td>\n",
       "    </tr>\n",
       "    <tr>\n",
       "      <th>17378</th>\n",
       "      <td>Potentilla norvegica</td>\n",
       "      <td>Yosemite National Park</td>\n",
       "      <td>148</td>\n",
       "    </tr>\n",
       "    <tr>\n",
       "      <th>10809</th>\n",
       "      <td>Potentilla norvegica</td>\n",
       "      <td>Yosemite National Park</td>\n",
       "      <td>148</td>\n",
       "    </tr>\n",
       "    <tr>\n",
       "      <th>7219</th>\n",
       "      <td>Prunella vulgaris</td>\n",
       "      <td>Great Smoky Mountains National Park</td>\n",
       "      <td>75</td>\n",
       "    </tr>\n",
       "    <tr>\n",
       "      <th>16741</th>\n",
       "      <td>Prunella vulgaris</td>\n",
       "      <td>Great Smoky Mountains National Park</td>\n",
       "      <td>75</td>\n",
       "    </tr>\n",
       "    <tr>\n",
       "      <th>19575</th>\n",
       "      <td>Salix exigua</td>\n",
       "      <td>Yosemite National Park</td>\n",
       "      <td>186</td>\n",
       "    </tr>\n",
       "    <tr>\n",
       "      <th>22698</th>\n",
       "      <td>Salix exigua</td>\n",
       "      <td>Yosemite National Park</td>\n",
       "      <td>186</td>\n",
       "    </tr>\n",
       "    <tr>\n",
       "      <th>17577</th>\n",
       "      <td>Spilogale putorius</td>\n",
       "      <td>Yellowstone National Park</td>\n",
       "      <td>256</td>\n",
       "    </tr>\n",
       "    <tr>\n",
       "      <th>627</th>\n",
       "      <td>Spilogale putorius</td>\n",
       "      <td>Yellowstone National Park</td>\n",
       "      <td>256</td>\n",
       "    </tr>\n",
       "    <tr>\n",
       "      <th>8710</th>\n",
       "      <td>Streptopelia decaocto</td>\n",
       "      <td>Yellowstone National Park</td>\n",
       "      <td>255</td>\n",
       "    </tr>\n",
       "    <tr>\n",
       "      <th>1635</th>\n",
       "      <td>Streptopelia decaocto</td>\n",
       "      <td>Yellowstone National Park</td>\n",
       "      <td>255</td>\n",
       "    </tr>\n",
       "    <tr>\n",
       "      <th>21151</th>\n",
       "      <td>Trifolium campestre</td>\n",
       "      <td>Yellowstone National Park</td>\n",
       "      <td>239</td>\n",
       "    </tr>\n",
       "    <tr>\n",
       "      <th>18435</th>\n",
       "      <td>Trifolium campestre</td>\n",
       "      <td>Yellowstone National Park</td>\n",
       "      <td>239</td>\n",
       "    </tr>\n",
       "  </tbody>\n",
       "</table>\n",
       "</div>"
      ],
      "text/plain": [
       "              scientific_name                            park_name  \\\n",
       "513             Arctium minus               Yosemite National Park   \n",
       "10674           Arctium minus               Yosemite National Park   \n",
       "4527   Botrychium virginianum            Yellowstone National Park   \n",
       "20294  Botrychium virginianum            Yellowstone National Park   \n",
       "19392       Cichorium intybus            Yellowstone National Park   \n",
       "14142       Cichorium intybus            Yellowstone National Park   \n",
       "7263   Echinochloa crus-galli  Great Smoky Mountains National Park   \n",
       "1454   Echinochloa crus-galli  Great Smoky Mountains National Park   \n",
       "1020     Eleocharis palustris  Great Smoky Mountains National Park   \n",
       "12381    Eleocharis palustris  Great Smoky Mountains National Park   \n",
       "1032      Hesperis matronalis                  Bryce National Park   \n",
       "13372     Hesperis matronalis                  Bryce National Park   \n",
       "4178     Monotropa hypopithys  Great Smoky Mountains National Park   \n",
       "20820    Monotropa hypopithys  Great Smoky Mountains National Park   \n",
       "10038          Plantago major  Great Smoky Mountains National Park   \n",
       "365            Plantago major  Great Smoky Mountains National Park   \n",
       "18141           Poa compressa  Great Smoky Mountains National Park   \n",
       "13097           Poa compressa  Great Smoky Mountains National Park   \n",
       "17378    Potentilla norvegica               Yosemite National Park   \n",
       "10809    Potentilla norvegica               Yosemite National Park   \n",
       "7219        Prunella vulgaris  Great Smoky Mountains National Park   \n",
       "16741       Prunella vulgaris  Great Smoky Mountains National Park   \n",
       "19575            Salix exigua               Yosemite National Park   \n",
       "22698            Salix exigua               Yosemite National Park   \n",
       "17577      Spilogale putorius            Yellowstone National Park   \n",
       "627        Spilogale putorius            Yellowstone National Park   \n",
       "8710    Streptopelia decaocto            Yellowstone National Park   \n",
       "1635    Streptopelia decaocto            Yellowstone National Park   \n",
       "21151     Trifolium campestre            Yellowstone National Park   \n",
       "18435     Trifolium campestre            Yellowstone National Park   \n",
       "\n",
       "       observations  \n",
       "513             162  \n",
       "10674           162  \n",
       "4527            232  \n",
       "20294           232  \n",
       "19392           266  \n",
       "14142           266  \n",
       "7263             62  \n",
       "1454             62  \n",
       "1020             62  \n",
       "12381            62  \n",
       "1032            124  \n",
       "13372           124  \n",
       "4178             73  \n",
       "20820            73  \n",
       "10038            90  \n",
       "365              90  \n",
       "18141            80  \n",
       "13097            80  \n",
       "17378           148  \n",
       "10809           148  \n",
       "7219             75  \n",
       "16741            75  \n",
       "19575           186  \n",
       "22698           186  \n",
       "17577           256  \n",
       "627             256  \n",
       "8710            255  \n",
       "1635            255  \n",
       "21151           239  \n",
       "18435           239  "
      ]
     },
     "execution_count": 18,
     "metadata": {},
     "output_type": "execute_result"
    }
   ],
   "source": [
    "duplicates = tracking_df[tracking_df.duplicated(keep=False)]\n",
    "\n",
    "duplicates.sort_values(by=['scientific_name'])"
   ]
  },
  {
   "cell_type": "markdown",
   "metadata": {},
   "source": [
    "The rows above are all duplicates. There seems to be no reason for including both records so i will now drop all duplicates, and check to ensure there are no further duplicates."
   ]
  },
  {
   "cell_type": "code",
   "execution_count": 19,
   "metadata": {},
   "outputs": [
    {
     "data": {
      "text/plain": [
       "0"
      ]
     },
     "execution_count": 19,
     "metadata": {},
     "output_type": "execute_result"
    }
   ],
   "source": [
    "tracking_df = tracking_df.drop_duplicates()\n",
    "\n",
    "tracking_df.duplicated().sum()"
   ]
  },
  {
   "cell_type": "markdown",
   "metadata": {},
   "source": [
    "### At this point all null values have been handled, and all duplicates removed. The data is much cleaner!\n",
    "\n",
    "Now, it would be beneficial to merge the two dataframes, enabling more comprehensive analysis, such as examining the relationship between `conservation_status` and `park_name`. *This could reveal if certain parks have a lower proportion of 'Healthy' species, suggesting that the park might be a 'high-risk' location for specific species.*"
   ]
  },
  {
   "cell_type": "code",
   "execution_count": 28,
   "metadata": {},
   "outputs": [],
   "source": [
    "data = pd.merge(species_df, tracking_df, on='scientific_name')"
   ]
  },
  {
   "cell_type": "code",
   "execution_count": 21,
   "metadata": {},
   "outputs": [
    {
     "data": {
      "text/html": [
       "<div>\n",
       "<style scoped>\n",
       "    .dataframe tbody tr th:only-of-type {\n",
       "        vertical-align: middle;\n",
       "    }\n",
       "\n",
       "    .dataframe tbody tr th {\n",
       "        vertical-align: top;\n",
       "    }\n",
       "\n",
       "    .dataframe thead th {\n",
       "        text-align: right;\n",
       "    }\n",
       "</style>\n",
       "<table border=\"1\" class=\"dataframe\">\n",
       "  <thead>\n",
       "    <tr style=\"text-align: right;\">\n",
       "      <th></th>\n",
       "      <th>category</th>\n",
       "      <th>scientific_name</th>\n",
       "      <th>common_names</th>\n",
       "      <th>conservation_status</th>\n",
       "      <th>park_name</th>\n",
       "      <th>observations</th>\n",
       "    </tr>\n",
       "  </thead>\n",
       "  <tbody>\n",
       "    <tr>\n",
       "      <th>4</th>\n",
       "      <td>Mammal</td>\n",
       "      <td>Bos bison</td>\n",
       "      <td>American Bison, Bison</td>\n",
       "      <td>Healthy</td>\n",
       "      <td>Yosemite National Park</td>\n",
       "      <td>128</td>\n",
       "    </tr>\n",
       "    <tr>\n",
       "      <th>5</th>\n",
       "      <td>Mammal</td>\n",
       "      <td>Bos bison</td>\n",
       "      <td>American Bison, Bison</td>\n",
       "      <td>Healthy</td>\n",
       "      <td>Yellowstone National Park</td>\n",
       "      <td>269</td>\n",
       "    </tr>\n",
       "    <tr>\n",
       "      <th>6</th>\n",
       "      <td>Mammal</td>\n",
       "      <td>Bos bison</td>\n",
       "      <td>American Bison, Bison</td>\n",
       "      <td>Healthy</td>\n",
       "      <td>Bryce National Park</td>\n",
       "      <td>68</td>\n",
       "    </tr>\n",
       "    <tr>\n",
       "      <th>7</th>\n",
       "      <td>Mammal</td>\n",
       "      <td>Bos bison</td>\n",
       "      <td>American Bison, Bison</td>\n",
       "      <td>Healthy</td>\n",
       "      <td>Great Smoky Mountains National Park</td>\n",
       "      <td>77</td>\n",
       "    </tr>\n",
       "  </tbody>\n",
       "</table>\n",
       "</div>"
      ],
      "text/plain": [
       "  category scientific_name           common_names conservation_status  \\\n",
       "4   Mammal       Bos bison  American Bison, Bison             Healthy   \n",
       "5   Mammal       Bos bison  American Bison, Bison             Healthy   \n",
       "6   Mammal       Bos bison  American Bison, Bison             Healthy   \n",
       "7   Mammal       Bos bison  American Bison, Bison             Healthy   \n",
       "\n",
       "                             park_name  observations  \n",
       "4               Yosemite National Park           128  \n",
       "5            Yellowstone National Park           269  \n",
       "6                  Bryce National Park            68  \n",
       "7  Great Smoky Mountains National Park            77  "
      ]
     },
     "execution_count": 21,
     "metadata": {},
     "output_type": "execute_result"
    }
   ],
   "source": [
    "check = data[data['scientific_name'] == 'Bos bison']\n",
    "check"
   ]
  },
  {
   "cell_type": "markdown",
   "metadata": {},
   "source": [
    "### We can now see how helpful it is to have the combined dataframes into 1 dataframe. With this quick example, 'check' is showing us this particular species is 'Healthy' in all parks!\n",
    "\n",
    "Perhaps, some parks have higher concentrations of non-healthy species? And if so, do some category types (e.g. mammal, fish,etc.) have a high liklihood of becoming non-healthy?"
   ]
  },
  {
   "cell_type": "code",
   "execution_count": 22,
   "metadata": {},
   "outputs": [
    {
     "data": {
      "image/png": "[encoded data removed]",
      "text/plain": [
       "<Figure size 640x480 with 1 Axes>"
      ]
     },
     "metadata": {},
     "output_type": "display_data"
    },
    {
     "data": {
      "text/plain": [
       "<Figure size 640x480 with 0 Axes>"
      ]
     },
     "metadata": {},
     "output_type": "display_data"
    }
   ],
   "source": [
    "plt.bar(x=check.park_name,height=check.observations,color=['red','blue','green','black'])\n",
    "plt.xticks(np.arange(4)-0.5,check.park_name,rotation=45)\n",
    "plt.title(\"Species Observation Frequency by National Park (example)\")\n",
    "plt.show()\n",
    "plt.clf()"
   ]
  },
  {
   "cell_type": "markdown",
   "metadata": {},
   "source": [
    "The bar plot clearly highlights the national park in which the American Bison is most commonly sighted. \n",
    "**This sample of data visually helps me understand the dataset better, so when it comes to conducting a comprehensive analysis, I am more prepared.**"
   ]
  },
  {
   "cell_type": "markdown",
   "metadata": {},
   "source": [
    "## Summary Statistics\n",
    "Before performing **Exploratory Data Analysis**, I want to know the summary statistics. Now that my data is clean, and both csv files are merged into 1 Dataframe (joined by their shared column, `scientific_name`), I think it is a great time to see the summary statistics:"
   ]
  },
  {
   "cell_type": "code",
   "execution_count": 26,
   "metadata": {},
   "outputs": [
    {
     "data": {
      "text/html": [
       "<div>\n",
       "<style scoped>\n",
       "    .dataframe tbody tr th:only-of-type {\n",
       "        vertical-align: middle;\n",
       "    }\n",
       "\n",
       "    .dataframe tbody tr th {\n",
       "        vertical-align: top;\n",
       "    }\n",
       "\n",
       "    .dataframe thead th {\n",
       "        text-align: right;\n",
       "    }\n",
       "</style>\n",
       "<table border=\"1\" class=\"dataframe\">\n",
       "  <thead>\n",
       "    <tr style=\"text-align: right;\">\n",
       "      <th></th>\n",
       "      <th>category</th>\n",
       "      <th>scientific_name</th>\n",
       "      <th>common_names</th>\n",
       "      <th>conservation_status</th>\n",
       "      <th>park_name</th>\n",
       "      <th>observations</th>\n",
       "    </tr>\n",
       "  </thead>\n",
       "  <tbody>\n",
       "    <tr>\n",
       "      <th>count</th>\n",
       "      <td>25601</td>\n",
       "      <td>25601</td>\n",
       "      <td>25601</td>\n",
       "      <td>25601</td>\n",
       "      <td>25601</td>\n",
       "      <td>25601.000000</td>\n",
       "    </tr>\n",
       "    <tr>\n",
       "      <th>unique</th>\n",
       "      <td>7</td>\n",
       "      <td>5541</td>\n",
       "      <td>5504</td>\n",
       "      <td>5</td>\n",
       "      <td>4</td>\n",
       "      <td>NaN</td>\n",
       "    </tr>\n",
       "    <tr>\n",
       "      <th>top</th>\n",
       "      <td>Vascular Plant</td>\n",
       "      <td>Hypochaeris radicata</td>\n",
       "      <td>Brachythecium Moss</td>\n",
       "      <td>Healthy</td>\n",
       "      <td>Bryce National Park</td>\n",
       "      <td>NaN</td>\n",
       "    </tr>\n",
       "    <tr>\n",
       "      <th>freq</th>\n",
       "      <td>19534</td>\n",
       "      <td>36</td>\n",
       "      <td>28</td>\n",
       "      <td>24721</td>\n",
       "      <td>6406</td>\n",
       "      <td>NaN</td>\n",
       "    </tr>\n",
       "    <tr>\n",
       "      <th>mean</th>\n",
       "      <td>NaN</td>\n",
       "      <td>NaN</td>\n",
       "      <td>NaN</td>\n",
       "      <td>NaN</td>\n",
       "      <td>NaN</td>\n",
       "      <td>142.196477</td>\n",
       "    </tr>\n",
       "    <tr>\n",
       "      <th>std</th>\n",
       "      <td>NaN</td>\n",
       "      <td>NaN</td>\n",
       "      <td>NaN</td>\n",
       "      <td>NaN</td>\n",
       "      <td>NaN</td>\n",
       "      <td>69.901035</td>\n",
       "    </tr>\n",
       "    <tr>\n",
       "      <th>min</th>\n",
       "      <td>NaN</td>\n",
       "      <td>NaN</td>\n",
       "      <td>NaN</td>\n",
       "      <td>NaN</td>\n",
       "      <td>NaN</td>\n",
       "      <td>9.000000</td>\n",
       "    </tr>\n",
       "    <tr>\n",
       "      <th>25%</th>\n",
       "      <td>NaN</td>\n",
       "      <td>NaN</td>\n",
       "      <td>NaN</td>\n",
       "      <td>NaN</td>\n",
       "      <td>NaN</td>\n",
       "      <td>86.000000</td>\n",
       "    </tr>\n",
       "    <tr>\n",
       "      <th>50%</th>\n",
       "      <td>NaN</td>\n",
       "      <td>NaN</td>\n",
       "      <td>NaN</td>\n",
       "      <td>NaN</td>\n",
       "      <td>NaN</td>\n",
       "      <td>123.000000</td>\n",
       "    </tr>\n",
       "    <tr>\n",
       "      <th>75%</th>\n",
       "      <td>NaN</td>\n",
       "      <td>NaN</td>\n",
       "      <td>NaN</td>\n",
       "      <td>NaN</td>\n",
       "      <td>NaN</td>\n",
       "      <td>195.000000</td>\n",
       "    </tr>\n",
       "    <tr>\n",
       "      <th>max</th>\n",
       "      <td>NaN</td>\n",
       "      <td>NaN</td>\n",
       "      <td>NaN</td>\n",
       "      <td>NaN</td>\n",
       "      <td>NaN</td>\n",
       "      <td>321.000000</td>\n",
       "    </tr>\n",
       "  </tbody>\n",
       "</table>\n",
       "</div>"
      ],
      "text/plain": [
       "              category       scientific_name        common_names  \\\n",
       "count            25601                 25601               25601   \n",
       "unique               7                  5541                5504   \n",
       "top     Vascular Plant  Hypochaeris radicata  Brachythecium Moss   \n",
       "freq             19534                    36                  28   \n",
       "mean               NaN                   NaN                 NaN   \n",
       "std                NaN                   NaN                 NaN   \n",
       "min                NaN                   NaN                 NaN   \n",
       "25%                NaN                   NaN                 NaN   \n",
       "50%                NaN                   NaN                 NaN   \n",
       "75%                NaN                   NaN                 NaN   \n",
       "max                NaN                   NaN                 NaN   \n",
       "\n",
       "       conservation_status            park_name  observations  \n",
       "count                25601                25601  25601.000000  \n",
       "unique                   5                    4           NaN  \n",
       "top                Healthy  Bryce National Park           NaN  \n",
       "freq                 24721                 6406           NaN  \n",
       "mean                   NaN                  NaN    142.196477  \n",
       "std                    NaN                  NaN     69.901035  \n",
       "min                    NaN                  NaN      9.000000  \n",
       "25%                    NaN                  NaN     86.000000  \n",
       "50%                    NaN                  NaN    123.000000  \n",
       "75%                    NaN                  NaN    195.000000  \n",
       "max                    NaN                  NaN    321.000000  "
      ]
     },
     "execution_count": 26,
     "metadata": {},
     "output_type": "execute_result"
    }
   ],
   "source": [
    "sum_stats = data.describe(include='all')\n",
    "sum_stats"
   ]
  },
  {
   "cell_type": "markdown",
   "metadata": {},
   "source": [
    "## Exploring Distribution by National Park for All Species\n",
    "To begin my EDA I want to compare the total distribution of species across all national parks in this data set. This will tell me if some parks are home to more species in general, and also individually."
   ]
  },
  {
   "cell_type": "code",
   "execution_count": 24,
   "metadata": {},
   "outputs": [],
   "source": [
    "import matplotlib.cm as cm\n",
    "x = np.arange(len(data))\n",
    "\n",
    "colors = cm.tab10(x)"
   ]
  },
  {
   "cell_type": "code",
   "execution_count": 25,
   "metadata": {},
   "outputs": [
    {
     "data": {
      "text/html": [
       "<div>\n",
       "<style scoped>\n",
       "    .dataframe tbody tr th:only-of-type {\n",
       "        vertical-align: middle;\n",
       "    }\n",
       "\n",
       "    .dataframe tbody tr th {\n",
       "        vertical-align: top;\n",
       "    }\n",
       "\n",
       "    .dataframe thead th {\n",
       "        text-align: right;\n",
       "    }\n",
       "</style>\n",
       "<table border=\"1\" class=\"dataframe\">\n",
       "  <thead>\n",
       "    <tr style=\"text-align: right;\">\n",
       "      <th></th>\n",
       "      <th>category</th>\n",
       "      <th>scientific_name</th>\n",
       "      <th>common_names</th>\n",
       "      <th>conservation_status</th>\n",
       "      <th>park_name</th>\n",
       "      <th>observations</th>\n",
       "    </tr>\n",
       "  </thead>\n",
       "  <tbody>\n",
       "    <tr>\n",
       "      <th>3</th>\n",
       "      <td>Mammal</td>\n",
       "      <td>Clethrionomys gapperi gapperi</td>\n",
       "      <td>Gapper's Red-Backed Vole</td>\n",
       "      <td>Healthy</td>\n",
       "      <td>Yosemite National Park</td>\n",
       "      <td>117</td>\n",
       "    </tr>\n",
       "    <tr>\n",
       "      <th>4</th>\n",
       "      <td>Mammal</td>\n",
       "      <td>Bos bison</td>\n",
       "      <td>American Bison, Bison</td>\n",
       "      <td>Healthy</td>\n",
       "      <td>Yosemite National Park</td>\n",
       "      <td>128</td>\n",
       "    </tr>\n",
       "    <tr>\n",
       "      <th>9</th>\n",
       "      <td>Mammal</td>\n",
       "      <td>Bos taurus</td>\n",
       "      <td>Aurochs, Aurochs, Domestic Cattle (Feral), Dom...</td>\n",
       "      <td>Healthy</td>\n",
       "      <td>Yosemite National Park</td>\n",
       "      <td>124</td>\n",
       "    </tr>\n",
       "    <tr>\n",
       "      <th>12</th>\n",
       "      <td>Mammal</td>\n",
       "      <td>Ovis aries</td>\n",
       "      <td>Domestic Sheep, Mouflon, Red Sheep, Sheep (Feral)</td>\n",
       "      <td>Healthy</td>\n",
       "      <td>Yosemite National Park</td>\n",
       "      <td>126</td>\n",
       "    </tr>\n",
       "    <tr>\n",
       "      <th>19</th>\n",
       "      <td>Mammal</td>\n",
       "      <td>Cervus elaphus</td>\n",
       "      <td>Wapiti Or Elk</td>\n",
       "      <td>Healthy</td>\n",
       "      <td>Yosemite National Park</td>\n",
       "      <td>203</td>\n",
       "    </tr>\n",
       "    <tr>\n",
       "      <th>...</th>\n",
       "      <td>...</td>\n",
       "      <td>...</td>\n",
       "      <td>...</td>\n",
       "      <td>...</td>\n",
       "      <td>...</td>\n",
       "      <td>...</td>\n",
       "    </tr>\n",
       "    <tr>\n",
       "      <th>25584</th>\n",
       "      <td>Vascular Plant</td>\n",
       "      <td>Solanum parishii</td>\n",
       "      <td>Parish's Nightshade</td>\n",
       "      <td>Healthy</td>\n",
       "      <td>Yosemite National Park</td>\n",
       "      <td>162</td>\n",
       "    </tr>\n",
       "    <tr>\n",
       "      <th>25588</th>\n",
       "      <td>Vascular Plant</td>\n",
       "      <td>Solanum xanti</td>\n",
       "      <td>Chaparral Nightshade, Purple Nightshade</td>\n",
       "      <td>Healthy</td>\n",
       "      <td>Yosemite National Park</td>\n",
       "      <td>150</td>\n",
       "    </tr>\n",
       "    <tr>\n",
       "      <th>25589</th>\n",
       "      <td>Vascular Plant</td>\n",
       "      <td>Parthenocissus vitacea</td>\n",
       "      <td>Thicket Creeper, Virginia Creeper, Woodbine</td>\n",
       "      <td>Healthy</td>\n",
       "      <td>Yosemite National Park</td>\n",
       "      <td>156</td>\n",
       "    </tr>\n",
       "    <tr>\n",
       "      <th>25595</th>\n",
       "      <td>Vascular Plant</td>\n",
       "      <td>Vitis californica</td>\n",
       "      <td>California Grape, California Wild Grape</td>\n",
       "      <td>Healthy</td>\n",
       "      <td>Yosemite National Park</td>\n",
       "      <td>164</td>\n",
       "    </tr>\n",
       "    <tr>\n",
       "      <th>25600</th>\n",
       "      <td>Vascular Plant</td>\n",
       "      <td>Tribulus terrestris</td>\n",
       "      <td>Bullhead, Caltrop, Goathead, Mexican Sandbur, ...</td>\n",
       "      <td>Healthy</td>\n",
       "      <td>Yosemite National Park</td>\n",
       "      <td>156</td>\n",
       "    </tr>\n",
       "  </tbody>\n",
       "</table>\n",
       "<p>6402 rows × 6 columns</p>\n",
       "</div>"
      ],
      "text/plain": [
       "             category                scientific_name  \\\n",
       "3              Mammal  Clethrionomys gapperi gapperi   \n",
       "4              Mammal                      Bos bison   \n",
       "9              Mammal                     Bos taurus   \n",
       "12             Mammal                     Ovis aries   \n",
       "19             Mammal                 Cervus elaphus   \n",
       "...               ...                            ...   \n",
       "25584  Vascular Plant               Solanum parishii   \n",
       "25588  Vascular Plant                  Solanum xanti   \n",
       "25589  Vascular Plant         Parthenocissus vitacea   \n",
       "25595  Vascular Plant              Vitis californica   \n",
       "25600  Vascular Plant            Tribulus terrestris   \n",
       "\n",
       "                                            common_names conservation_status  \\\n",
       "3                               Gapper's Red-Backed Vole             Healthy   \n",
       "4                                  American Bison, Bison             Healthy   \n",
       "9      Aurochs, Aurochs, Domestic Cattle (Feral), Dom...             Healthy   \n",
       "12     Domestic Sheep, Mouflon, Red Sheep, Sheep (Feral)             Healthy   \n",
       "19                                         Wapiti Or Elk             Healthy   \n",
       "...                                                  ...                 ...   \n",
       "25584                                Parish's Nightshade             Healthy   \n",
       "25588            Chaparral Nightshade, Purple Nightshade             Healthy   \n",
       "25589        Thicket Creeper, Virginia Creeper, Woodbine             Healthy   \n",
       "25595            California Grape, California Wild Grape             Healthy   \n",
       "25600  Bullhead, Caltrop, Goathead, Mexican Sandbur, ...             Healthy   \n",
       "\n",
       "                    park_name  observations  \n",
       "3      Yosemite National Park           117  \n",
       "4      Yosemite National Park           128  \n",
       "9      Yosemite National Park           124  \n",
       "12     Yosemite National Park           126  \n",
       "19     Yosemite National Park           203  \n",
       "...                       ...           ...  \n",
       "25584  Yosemite National Park           162  \n",
       "25588  Yosemite National Park           150  \n",
       "25589  Yosemite National Park           156  \n",
       "25595  Yosemite National Park           164  \n",
       "25600  Yosemite National Park           156  \n",
       "\n",
       "[6402 rows x 6 columns]"
      ]
     },
     "execution_count": 25,
     "metadata": {},
     "output_type": "execute_result"
    }
   ],
   "source": [
    "yosemite = data[data.park_name == 'Yosemite National Park']\n",
    "yosemite"
   ]
  }
 ],
 "metadata": {
  "kernelspec": {
   "display_name": "Python 3 (ipykernel)",
   "language": "python",
   "name": "python3"
  },
  "language_info": {
   "codemirror_mode": {
    "name": "ipython",
    "version": 3
   },
   "file_extension": ".py",
   "mimetype": "text/x-python",
   "name": "python",
   "nbconvert_exporter": "python",
   "pygments_lexer": "ipython3",
   "version": "3.11.3"
  }
 },
 "nbformat": 4,
 "nbformat_minor": 4
}
