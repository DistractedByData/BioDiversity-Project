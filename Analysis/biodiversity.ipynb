{
 "cells": [
  {
   "cell_type": "markdown",
   "metadata": {},
   "source": [
    "# Analyzing Biodiversity and Conservation Status in National Parks."
   ]
  },
  {
   "cell_type": "markdown",
   "metadata": {},
   "source": [
    "## Introduction:\n",
    "\n",
    "This is my first python project shared on Github. I will explore and perform data analysis on 2 datasets, sourced from the National Parks Service.\n",
    "\n",
    "### Goals:\n",
    "I will be looking to answer more questions as I begin exploring the data, but these questions will guide my intial exploration:\n",
    "\n",
    "- What is the distribution of `conservation_status` for animals?  \n",
    "- Are certain types of species more likely to be endangered?  \n",
    "- Are the differences between species and their conservation status significant?  \n",
    "- Which species were spotted the most at each park?"
   ]
  },
  {
   "cell_type": "markdown",
   "metadata": {},
   "source": [
    "### Raw Data Files:"
   ]
  },
  {
   "cell_type": "markdown",
   "metadata": {},
   "source": [
    "**species_info.csv** - contains data about different species and their conservation status.  \n",
    "`category` - class of animal  \n",
    "`scientific_name` - the scientific name of each species  \n",
    "`common_name` - the common names of each species  \n",
    "`conservation_status` - each species' current conservation status  \n",
    "\n",
    "**observations.csv** - holds recorded sightings of different species at several national parks for the past 7 days.  \n",
    "`scientific_name` - the scientific name of each species  \n",
    "`park_name` - park where species were found  \n",
    "`observations` - the number of times each species was observed at the park"
   ]
  },
  {
   "cell_type": "markdown",
   "metadata": {},
   "source": [
    "## Load CSV Files: inspect first 10 rows."
   ]
  },
  {
   "cell_type": "markdown",
   "metadata": {},
   "source": [
    "During my review of the column names, I have decided not to name the DataFrame 'Observations' due to the identical column name. To avoid confusion, I will instead use 'tracking' as a synonym instead of observations."
   ]
  },
  {
   "cell_type": "code",
   "execution_count": 1,
   "metadata": {},
   "outputs": [],
   "source": [
    "import pandas as pd\n",
    "import numpy as np\n",
    "import matplotlib.pyplot as plt\n",
    "import seaborn as sns"
   ]
  },
  {
   "cell_type": "code",
   "execution_count": 2,
   "metadata": {},
   "outputs": [],
   "source": [
    "species_df = pd.read_csv(\"~/Desktop/GitHub/BioDiversity-Project/Analysis/species_info.csv\")\n",
    "tracking_df = pd.read_csv(\"~/Desktop/GitHub/BioDiversity-Project/Analysis/observations.csv\")"
   ]
  },
  {
   "cell_type": "code",
   "execution_count": 3,
   "metadata": {},
   "outputs": [
    {
     "data": {
      "text/html": [
       "<div>\n",
       "<style scoped>\n",
       "    .dataframe tbody tr th:only-of-type {\n",
       "        vertical-align: middle;\n",
       "    }\n",
       "\n",
       "    .dataframe tbody tr th {\n",
       "        vertical-align: top;\n",
       "    }\n",
       "\n",
       "    .dataframe thead th {\n",
       "        text-align: right;\n",
       "    }\n",
       "</style>\n",
       "<table border=\"1\" class=\"dataframe\">\n",
       "  <thead>\n",
       "    <tr style=\"text-align: right;\">\n",
       "      <th></th>\n",
       "      <th>category</th>\n",
       "      <th>scientific_name</th>\n",
       "      <th>common_names</th>\n",
       "      <th>conservation_status</th>\n",
       "    </tr>\n",
       "  </thead>\n",
       "  <tbody>\n",
       "    <tr>\n",
       "      <th>0</th>\n",
       "      <td>Mammal</td>\n",
       "      <td>Clethrionomys gapperi gapperi</td>\n",
       "      <td>Gapper's Red-Backed Vole</td>\n",
       "      <td>NaN</td>\n",
       "    </tr>\n",
       "    <tr>\n",
       "      <th>1</th>\n",
       "      <td>Mammal</td>\n",
       "      <td>Bos bison</td>\n",
       "      <td>American Bison, Bison</td>\n",
       "      <td>NaN</td>\n",
       "    </tr>\n",
       "    <tr>\n",
       "      <th>2</th>\n",
       "      <td>Mammal</td>\n",
       "      <td>Bos taurus</td>\n",
       "      <td>Aurochs, Aurochs, Domestic Cattle (Feral), Dom...</td>\n",
       "      <td>NaN</td>\n",
       "    </tr>\n",
       "    <tr>\n",
       "      <th>3</th>\n",
       "      <td>Mammal</td>\n",
       "      <td>Ovis aries</td>\n",
       "      <td>Domestic Sheep, Mouflon, Red Sheep, Sheep (Feral)</td>\n",
       "      <td>NaN</td>\n",
       "    </tr>\n",
       "    <tr>\n",
       "      <th>4</th>\n",
       "      <td>Mammal</td>\n",
       "      <td>Cervus elaphus</td>\n",
       "      <td>Wapiti Or Elk</td>\n",
       "      <td>NaN</td>\n",
       "    </tr>\n",
       "  </tbody>\n",
       "</table>\n",
       "</div>"
      ],
      "text/plain": [
       "  category                scientific_name  \\\n",
       "0   Mammal  Clethrionomys gapperi gapperi   \n",
       "1   Mammal                      Bos bison   \n",
       "2   Mammal                     Bos taurus   \n",
       "3   Mammal                     Ovis aries   \n",
       "4   Mammal                 Cervus elaphus   \n",
       "\n",
       "                                        common_names conservation_status  \n",
       "0                           Gapper's Red-Backed Vole                 NaN  \n",
       "1                              American Bison, Bison                 NaN  \n",
       "2  Aurochs, Aurochs, Domestic Cattle (Feral), Dom...                 NaN  \n",
       "3  Domestic Sheep, Mouflon, Red Sheep, Sheep (Feral)                 NaN  \n",
       "4                                      Wapiti Or Elk                 NaN  "
      ]
     },
     "execution_count": 3,
     "metadata": {},
     "output_type": "execute_result"
    }
   ],
   "source": [
    "species_df.head()"
   ]
  },
  {
   "cell_type": "code",
   "execution_count": 4,
   "metadata": {},
   "outputs": [
    {
     "data": {
      "text/plain": [
       "category               object\n",
       "scientific_name        object\n",
       "common_names           object\n",
       "conservation_status    object\n",
       "dtype: object"
      ]
     },
     "execution_count": 4,
     "metadata": {},
     "output_type": "execute_result"
    }
   ],
   "source": [
    "species_df.dtypes"
   ]
  },
  {
   "cell_type": "code",
   "execution_count": 5,
   "metadata": {},
   "outputs": [
    {
     "data": {
      "text/html": [
       "<div>\n",
       "<style scoped>\n",
       "    .dataframe tbody tr th:only-of-type {\n",
       "        vertical-align: middle;\n",
       "    }\n",
       "\n",
       "    .dataframe tbody tr th {\n",
       "        vertical-align: top;\n",
       "    }\n",
       "\n",
       "    .dataframe thead th {\n",
       "        text-align: right;\n",
       "    }\n",
       "</style>\n",
       "<table border=\"1\" class=\"dataframe\">\n",
       "  <thead>\n",
       "    <tr style=\"text-align: right;\">\n",
       "      <th></th>\n",
       "      <th>scientific_name</th>\n",
       "      <th>park_name</th>\n",
       "      <th>observations</th>\n",
       "    </tr>\n",
       "  </thead>\n",
       "  <tbody>\n",
       "    <tr>\n",
       "      <th>0</th>\n",
       "      <td>Vicia benghalensis</td>\n",
       "      <td>Great Smoky Mountains National Park</td>\n",
       "      <td>68</td>\n",
       "    </tr>\n",
       "    <tr>\n",
       "      <th>1</th>\n",
       "      <td>Neovison vison</td>\n",
       "      <td>Great Smoky Mountains National Park</td>\n",
       "      <td>77</td>\n",
       "    </tr>\n",
       "    <tr>\n",
       "      <th>2</th>\n",
       "      <td>Prunus subcordata</td>\n",
       "      <td>Yosemite National Park</td>\n",
       "      <td>138</td>\n",
       "    </tr>\n",
       "    <tr>\n",
       "      <th>3</th>\n",
       "      <td>Abutilon theophrasti</td>\n",
       "      <td>Bryce National Park</td>\n",
       "      <td>84</td>\n",
       "    </tr>\n",
       "    <tr>\n",
       "      <th>4</th>\n",
       "      <td>Githopsis specularioides</td>\n",
       "      <td>Great Smoky Mountains National Park</td>\n",
       "      <td>85</td>\n",
       "    </tr>\n",
       "  </tbody>\n",
       "</table>\n",
       "</div>"
      ],
      "text/plain": [
       "            scientific_name                            park_name  observations\n",
       "0        Vicia benghalensis  Great Smoky Mountains National Park            68\n",
       "1            Neovison vison  Great Smoky Mountains National Park            77\n",
       "2         Prunus subcordata               Yosemite National Park           138\n",
       "3      Abutilon theophrasti                  Bryce National Park            84\n",
       "4  Githopsis specularioides  Great Smoky Mountains National Park            85"
      ]
     },
     "execution_count": 5,
     "metadata": {},
     "output_type": "execute_result"
    }
   ],
   "source": [
    "tracking_df.head()"
   ]
  },
  {
   "cell_type": "code",
   "execution_count": 6,
   "metadata": {},
   "outputs": [
    {
     "data": {
      "text/plain": [
       "scientific_name    object\n",
       "park_name          object\n",
       "observations        int64\n",
       "dtype: object"
      ]
     },
     "execution_count": 6,
     "metadata": {},
     "output_type": "execute_result"
    }
   ],
   "source": [
    "tracking_df.dtypes"
   ]
  },
  {
   "cell_type": "markdown",
   "metadata": {},
   "source": [
    "## Digging into the missing data."
   ]
  },
  {
   "cell_type": "markdown",
   "metadata": {},
   "source": [
    "I only see `NaN` values in  **species_df** for the column `conservation_status`- this will be something to look into a bit deeper as I begin to clean the data.  \n",
    "*I also see that both df's contain the column `scientific_name`. This will be useful to act as a primary key, linking both tables by a shared relation if I choose to join both df's.*\n",
    "\n",
    "**For now, though, I want to continue exploring the data while looking more into each column to see if any others contain NaN, or other possible issues that could be addressed with data cleaning.**"
   ]
  },
  {
   "cell_type": "code",
   "execution_count": 7,
   "metadata": {},
   "outputs": [
    {
     "data": {
      "text/plain": [
       "(Index(['category', 'scientific_name', 'common_names', 'conservation_status'], dtype='object'),\n",
       " (5824, 4))"
      ]
     },
     "execution_count": 7,
     "metadata": {},
     "output_type": "execute_result"
    }
   ],
   "source": [
    "species_df_shape = species_df.columns, species_df.shape\n",
    "\n",
    "species_df_shape"
   ]
  },
  {
   "cell_type": "code",
   "execution_count": 8,
   "metadata": {},
   "outputs": [
    {
     "data": {
      "text/plain": [
       "(Index(['scientific_name', 'park_name', 'observations'], dtype='object'),\n",
       " (23296, 3))"
      ]
     },
     "execution_count": 8,
     "metadata": {},
     "output_type": "execute_result"
    }
   ],
   "source": [
    "tracking_df_shape = tracking_df.columns, tracking_df.shape\n",
    "\n",
    "tracking_df_shape "
   ]
  },
  {
   "cell_type": "code",
   "execution_count": 9,
   "metadata": {},
   "outputs": [
    {
     "data": {
      "text/plain": [
       "conservation_status    5633\n",
       "category                  0\n",
       "scientific_name           0\n",
       "common_names              0\n",
       "dtype: int64"
      ]
     },
     "execution_count": 9,
     "metadata": {},
     "output_type": "execute_result"
    }
   ],
   "source": [
    "species_null = species_df.isnull().sum().sort_values(ascending=False)\n",
    "\n",
    "species_null"
   ]
  },
  {
   "cell_type": "code",
   "execution_count": 10,
   "metadata": {},
   "outputs": [
    {
     "name": "stdout",
     "output_type": "stream",
     "text": [
      "96.72% of the rows in the conservation_status column are null.\n"
     ]
    }
   ],
   "source": [
    "total_rows, total_col = species_df.shape\n",
    "null_rows = species_null[0]\n",
    "null_per = (null_rows/total_rows) *100\n",
    "\n",
    "print(f\"{null_per.round(3)}% of the rows in the conservation_status column are null.\")"
   ]
  },
  {
   "cell_type": "code",
   "execution_count": 11,
   "metadata": {},
   "outputs": [
    {
     "data": {
      "text/plain": [
       "scientific_name    0\n",
       "park_name          0\n",
       "observations       0\n",
       "dtype: int64"
      ]
     },
     "execution_count": 11,
     "metadata": {},
     "output_type": "execute_result"
    }
   ],
   "source": [
    "tracking_null = tracking_df.isnull().sum().sort_values(ascending=False)\n",
    "\n",
    "tracking_null"
   ]
  },
  {
   "cell_type": "markdown",
   "metadata": {},
   "source": [
    "**Diving deeper I see a majority of the rows in the `conservation_status` column have null values. I want to know if the missing values are: systematic, MAR, MCAR, or MNAR? Without much domain knowledge, I will look closer at the non-null values.**"
   ]
  },
  {
   "cell_type": "code",
   "execution_count": 12,
   "metadata": {},
   "outputs": [
    {
     "name": "stdout",
     "output_type": "stream",
     "text": [
      "conservation_types: [nan 'Species of Concern' 'Endangered' 'Threatened' 'In Recovery']\n"
     ]
    },
    {
     "data": {
      "text/plain": [
       "Species of Concern    161\n",
       "Endangered             16\n",
       "Threatened             10\n",
       "In Recovery             4\n",
       "Name: conservation_status, dtype: int64"
      ]
     },
     "execution_count": 12,
     "metadata": {},
     "output_type": "execute_result"
    }
   ],
   "source": [
    "conservation_types = species_df['conservation_status'].unique()\n",
    "\n",
    "print(\"conservation_types:\", conservation_types)\n",
    "species_df['conservation_status'].value_counts()"
   ]
  },
  {
   "cell_type": "markdown",
   "metadata": {},
   "source": [
    "**`Conservation Status`** is an ordinal categorical variable with 4 categories: \n",
    "- Species of Concern, \n",
    "- Endangered, \n",
    "- Threatened, \n",
    "- In recovery. \n",
    " \n",
    "**It seems less surprising now, why there is a significant portion of null values (96.72%) - it is common for a species to not fit 1 of the 4 categories, which suggests that `NaN` values represent *no* conservation status,i.e. the species is not at risk.**\n",
    "\n",
    "This insight allows me to make an important assumption: that `NaN` values are systematically missing due to the dataset only recording conservation status for species known to be at risk. However, it is crucial to remember that this is an assumption.\n",
    "\n",
    "To perform a more comprehensive analysis, I will modify the null values to represent a 'Healthy' conservation status, indicating that the species is not considered at risk. This relabeling allows me to include these records in my analysis without the need to delete the rows entirely."
   ]
  },
  {
   "cell_type": "code",
   "execution_count": 13,
   "metadata": {},
   "outputs": [
    {
     "data": {
      "text/plain": [
       "Healthy               5633\n",
       "Species of Concern     161\n",
       "Endangered              16\n",
       "Threatened              10\n",
       "In Recovery              4\n",
       "Name: conservation_status, dtype: int64"
      ]
     },
     "execution_count": 13,
     "metadata": {},
     "output_type": "execute_result"
    }
   ],
   "source": [
    "species_df['conservation_status'] = species_df['conservation_status'].fillna('Healthy').astype('category')\n",
    "#con_status = species_df['conservation_status'].astype('category')\n",
    "con_status = species_df['conservation_status']\n",
    "labels = con_status.unique()\n",
    "con_status_counts = con_status.value_counts()\n",
    "\n",
    "con_status_counts"
   ]
  },
  {
   "cell_type": "code",
   "execution_count": 14,
   "metadata": {},
   "outputs": [
    {
     "data": {
      "text/plain": [
       "Healthy               96.720467\n",
       "Species of Concern     2.764423\n",
       "Endangered             0.274725\n",
       "Threatened             0.171703\n",
       "In Recovery            0.068681\n",
       "Name: conservation_status, dtype: float64"
      ]
     },
     "execution_count": 14,
     "metadata": {},
     "output_type": "execute_result"
    }
   ],
   "source": [
    "prop = (con_status_counts/total_rows)*100\n",
    "\n",
    "prop"
   ]
  },
  {
   "cell_type": "markdown",
   "metadata": {},
   "source": [
    "## Some insight into Q1. What is the distribution of `conservation_status` for animals?  \n",
    "\n",
    "Before fully diving into Q1, I do want to quickly investigate the question with the current understanding so far established through the analysis up to this point. **Since I am not familiar with this dataset/domain of knowledge, I find it helpful to take extra time learning about the basic features, and how they relate.**\n",
    "\n",
    "For example, it is more obvious looking at the proportions above to understand the distribution of species this dataset contains. It prepares me for further EDA, where I'd be interested in learning more about the distribution of `conservation_status` by national park - maybe some parks are home to more at-risk species than other parks!\n",
    "\n",
    "### A visual of the `conservation_status` proportions:"
   ]
  },
  {
   "cell_type": "code",
   "execution_count": 15,
   "metadata": {},
   "outputs": [],
   "source": [
    "legend_labels = [f'{label} - {prop:.1f}%' for label, prop in zip(labels, prop)]"
   ]
  },
  {
   "cell_type": "code",
   "execution_count": 16,
   "metadata": {},
   "outputs": [
    {
     "data": {
      "image/png": "[encoded data removed]",
      "text/plain": [
       "<Figure size 640x480 with 1 Axes>"
      ]
     },
     "metadata": {},
     "output_type": "display_data"
    },
    {
     "data": {
      "text/plain": [
       "<Figure size 640x480 with 0 Axes>"
      ]
     },
     "metadata": {},
     "output_type": "display_data"
    }
   ],
   "source": [
    "plt.pie(con_status_counts)\n",
    "plt.title('Proportion of Conservation Status')\n",
    "plt.legend(legend_labels,bbox_to_anchor=(1, 0.5), loc='center left')\n",
    "\n",
    "plt.show()\n",
    "plt.clf()"
   ]
  },
  {
   "cell_type": "markdown",
   "metadata": {},
   "source": [
    "It is hard to see any color except for **blue** and **orange**, indicating the other values are much less frequent.\n",
    "\n",
    "With this additional understanding, I can think of 2 more questions I am interested in analyzing during EDA -- what is the proportion of `convservation_status` by:\n",
    "- `national_park`?; to investigate if some parks are more difficult for a species to survive in.\n",
    "- `category`?; to investigate if some categories of species have more difficulty surviving than others."
   ]
  },
  {
   "cell_type": "markdown",
   "metadata": {},
   "source": [
    "### Before performing in-depth EDA, I want to backup and finish the data cleaning.. I need to identify all duplicate rows."
   ]
  },
  {
   "cell_type": "code",
   "execution_count": 17,
   "metadata": {},
   "outputs": [
    {
     "data": {
      "text/plain": [
       "(0, 15)"
      ]
     },
     "execution_count": 17,
     "metadata": {},
     "output_type": "execute_result"
    }
   ],
   "source": [
    "s_dups = species_df.duplicated()\n",
    "t_dups = tracking_df.duplicated()\n",
    "\n",
    "s_dups.sum(), t_dups.sum()"
   ]
  },
  {
   "cell_type": "code",
   "execution_count": 18,
   "metadata": {},
   "outputs": [
    {
     "data": {
      "text/html": [
       "<div>\n",
       "<style scoped>\n",
       "    .dataframe tbody tr th:only-of-type {\n",
       "        vertical-align: middle;\n",
       "    }\n",
       "\n",
       "    .dataframe tbody tr th {\n",
       "        vertical-align: top;\n",
       "    }\n",
       "\n",
       "    .dataframe thead th {\n",
       "        text-align: right;\n",
       "    }\n",
       "</style>\n",
       "<table border=\"1\" class=\"dataframe\">\n",
       "  <thead>\n",
       "    <tr style=\"text-align: right;\">\n",
       "      <th></th>\n",
       "      <th>scientific_name</th>\n",
       "      <th>park_name</th>\n",
       "      <th>observations</th>\n",
       "    </tr>\n",
       "  </thead>\n",
       "  <tbody>\n",
       "    <tr>\n",
       "      <th>513</th>\n",
       "      <td>Arctium minus</td>\n",
       "      <td>Yosemite National Park</td>\n",
       "      <td>162</td>\n",
       "    </tr>\n",
       "    <tr>\n",
       "      <th>10674</th>\n",
       "      <td>Arctium minus</td>\n",
       "      <td>Yosemite National Park</td>\n",
       "      <td>162</td>\n",
       "    </tr>\n",
       "    <tr>\n",
       "      <th>4527</th>\n",
       "      <td>Botrychium virginianum</td>\n",
       "      <td>Yellowstone National Park</td>\n",
       "      <td>232</td>\n",
       "    </tr>\n",
       "    <tr>\n",
       "      <th>20294</th>\n",
       "      <td>Botrychium virginianum</td>\n",
       "      <td>Yellowstone National Park</td>\n",
       "      <td>232</td>\n",
       "    </tr>\n",
       "    <tr>\n",
       "      <th>19392</th>\n",
       "      <td>Cichorium intybus</td>\n",
       "      <td>Yellowstone National Park</td>\n",
       "      <td>266</td>\n",
       "    </tr>\n",
       "    <tr>\n",
       "      <th>14142</th>\n",
       "      <td>Cichorium intybus</td>\n",
       "      <td>Yellowstone National Park</td>\n",
       "      <td>266</td>\n",
       "    </tr>\n",
       "    <tr>\n",
       "      <th>7263</th>\n",
       "      <td>Echinochloa crus-galli</td>\n",
       "      <td>Great Smoky Mountains National Park</td>\n",
       "      <td>62</td>\n",
       "    </tr>\n",
       "    <tr>\n",
       "      <th>1454</th>\n",
       "      <td>Echinochloa crus-galli</td>\n",
       "      <td>Great Smoky Mountains National Park</td>\n",
       "      <td>62</td>\n",
       "    </tr>\n",
       "    <tr>\n",
       "      <th>1020</th>\n",
       "      <td>Eleocharis palustris</td>\n",
       "      <td>Great Smoky Mountains National Park</td>\n",
       "      <td>62</td>\n",
       "    </tr>\n",
       "    <tr>\n",
       "      <th>12381</th>\n",
       "      <td>Eleocharis palustris</td>\n",
       "      <td>Great Smoky Mountains National Park</td>\n",
       "      <td>62</td>\n",
       "    </tr>\n",
       "    <tr>\n",
       "      <th>1032</th>\n",
       "      <td>Hesperis matronalis</td>\n",
       "      <td>Bryce National Park</td>\n",
       "      <td>124</td>\n",
       "    </tr>\n",
       "    <tr>\n",
       "      <th>13372</th>\n",
       "      <td>Hesperis matronalis</td>\n",
       "      <td>Bryce National Park</td>\n",
       "      <td>124</td>\n",
       "    </tr>\n",
       "    <tr>\n",
       "      <th>4178</th>\n",
       "      <td>Monotropa hypopithys</td>\n",
       "      <td>Great Smoky Mountains National Park</td>\n",
       "      <td>73</td>\n",
       "    </tr>\n",
       "    <tr>\n",
       "      <th>20820</th>\n",
       "      <td>Monotropa hypopithys</td>\n",
       "      <td>Great Smoky Mountains National Park</td>\n",
       "      <td>73</td>\n",
       "    </tr>\n",
       "    <tr>\n",
       "      <th>10038</th>\n",
       "      <td>Plantago major</td>\n",
       "      <td>Great Smoky Mountains National Park</td>\n",
       "      <td>90</td>\n",
       "    </tr>\n",
       "    <tr>\n",
       "      <th>365</th>\n",
       "      <td>Plantago major</td>\n",
       "      <td>Great Smoky Mountains National Park</td>\n",
       "      <td>90</td>\n",
       "    </tr>\n",
       "    <tr>\n",
       "      <th>18141</th>\n",
       "      <td>Poa compressa</td>\n",
       "      <td>Great Smoky Mountains National Park</td>\n",
       "      <td>80</td>\n",
       "    </tr>\n",
       "    <tr>\n",
       "      <th>13097</th>\n",
       "      <td>Poa compressa</td>\n",
       "      <td>Great Smoky Mountains National Park</td>\n",
       "      <td>80</td>\n",
       "    </tr>\n",
       "    <tr>\n",
       "      <th>17378</th>\n",
       "      <td>Potentilla norvegica</td>\n",
       "      <td>Yosemite National Park</td>\n",
       "      <td>148</td>\n",
       "    </tr>\n",
       "    <tr>\n",
       "      <th>10809</th>\n",
       "      <td>Potentilla norvegica</td>\n",
       "      <td>Yosemite National Park</td>\n",
       "      <td>148</td>\n",
       "    </tr>\n",
       "    <tr>\n",
       "      <th>7219</th>\n",
       "      <td>Prunella vulgaris</td>\n",
       "      <td>Great Smoky Mountains National Park</td>\n",
       "      <td>75</td>\n",
       "    </tr>\n",
       "    <tr>\n",
       "      <th>16741</th>\n",
       "      <td>Prunella vulgaris</td>\n",
       "      <td>Great Smoky Mountains National Park</td>\n",
       "      <td>75</td>\n",
       "    </tr>\n",
       "    <tr>\n",
       "      <th>19575</th>\n",
       "      <td>Salix exigua</td>\n",
       "      <td>Yosemite National Park</td>\n",
       "      <td>186</td>\n",
       "    </tr>\n",
       "    <tr>\n",
       "      <th>22698</th>\n",
       "      <td>Salix exigua</td>\n",
       "      <td>Yosemite National Park</td>\n",
       "      <td>186</td>\n",
       "    </tr>\n",
       "    <tr>\n",
       "      <th>17577</th>\n",
       "      <td>Spilogale putorius</td>\n",
       "      <td>Yellowstone National Park</td>\n",
       "      <td>256</td>\n",
       "    </tr>\n",
       "    <tr>\n",
       "      <th>627</th>\n",
       "      <td>Spilogale putorius</td>\n",
       "      <td>Yellowstone National Park</td>\n",
       "      <td>256</td>\n",
       "    </tr>\n",
       "    <tr>\n",
       "      <th>8710</th>\n",
       "      <td>Streptopelia decaocto</td>\n",
       "      <td>Yellowstone National Park</td>\n",
       "      <td>255</td>\n",
       "    </tr>\n",
       "    <tr>\n",
       "      <th>1635</th>\n",
       "      <td>Streptopelia decaocto</td>\n",
       "      <td>Yellowstone National Park</td>\n",
       "      <td>255</td>\n",
       "    </tr>\n",
       "    <tr>\n",
       "      <th>21151</th>\n",
       "      <td>Trifolium campestre</td>\n",
       "      <td>Yellowstone National Park</td>\n",
       "      <td>239</td>\n",
       "    </tr>\n",
       "    <tr>\n",
       "      <th>18435</th>\n",
       "      <td>Trifolium campestre</td>\n",
       "      <td>Yellowstone National Park</td>\n",
       "      <td>239</td>\n",
       "    </tr>\n",
       "  </tbody>\n",
       "</table>\n",
       "</div>"
      ],
      "text/plain": [
       "              scientific_name                            park_name  \\\n",
       "513             Arctium minus               Yosemite National Park   \n",
       "10674           Arctium minus               Yosemite National Park   \n",
       "4527   Botrychium virginianum            Yellowstone National Park   \n",
       "20294  Botrychium virginianum            Yellowstone National Park   \n",
       "19392       Cichorium intybus            Yellowstone National Park   \n",
       "14142       Cichorium intybus            Yellowstone National Park   \n",
       "7263   Echinochloa crus-galli  Great Smoky Mountains National Park   \n",
       "1454   Echinochloa crus-galli  Great Smoky Mountains National Park   \n",
       "1020     Eleocharis palustris  Great Smoky Mountains National Park   \n",
       "12381    Eleocharis palustris  Great Smoky Mountains National Park   \n",
       "1032      Hesperis matronalis                  Bryce National Park   \n",
       "13372     Hesperis matronalis                  Bryce National Park   \n",
       "4178     Monotropa hypopithys  Great Smoky Mountains National Park   \n",
       "20820    Monotropa hypopithys  Great Smoky Mountains National Park   \n",
       "10038          Plantago major  Great Smoky Mountains National Park   \n",
       "365            Plantago major  Great Smoky Mountains National Park   \n",
       "18141           Poa compressa  Great Smoky Mountains National Park   \n",
       "13097           Poa compressa  Great Smoky Mountains National Park   \n",
       "17378    Potentilla norvegica               Yosemite National Park   \n",
       "10809    Potentilla norvegica               Yosemite National Park   \n",
       "7219        Prunella vulgaris  Great Smoky Mountains National Park   \n",
       "16741       Prunella vulgaris  Great Smoky Mountains National Park   \n",
       "19575            Salix exigua               Yosemite National Park   \n",
       "22698            Salix exigua               Yosemite National Park   \n",
       "17577      Spilogale putorius            Yellowstone National Park   \n",
       "627        Spilogale putorius            Yellowstone National Park   \n",
       "8710    Streptopelia decaocto            Yellowstone National Park   \n",
       "1635    Streptopelia decaocto            Yellowstone National Park   \n",
       "21151     Trifolium campestre            Yellowstone National Park   \n",
       "18435     Trifolium campestre            Yellowstone National Park   \n",
       "\n",
       "       observations  \n",
       "513             162  \n",
       "10674           162  \n",
       "4527            232  \n",
       "20294           232  \n",
       "19392           266  \n",
       "14142           266  \n",
       "7263             62  \n",
       "1454             62  \n",
       "1020             62  \n",
       "12381            62  \n",
       "1032            124  \n",
       "13372           124  \n",
       "4178             73  \n",
       "20820            73  \n",
       "10038            90  \n",
       "365              90  \n",
       "18141            80  \n",
       "13097            80  \n",
       "17378           148  \n",
       "10809           148  \n",
       "7219             75  \n",
       "16741            75  \n",
       "19575           186  \n",
       "22698           186  \n",
       "17577           256  \n",
       "627             256  \n",
       "8710            255  \n",
       "1635            255  \n",
       "21151           239  \n",
       "18435           239  "
      ]
     },
     "execution_count": 18,
     "metadata": {},
     "output_type": "execute_result"
    }
   ],
   "source": [
    "duplicates = tracking_df[tracking_df.duplicated(keep=False)]\n",
    "\n",
    "duplicates.sort_values(by=['scientific_name'])"
   ]
  },
  {
   "cell_type": "markdown",
   "metadata": {},
   "source": [
    "The rows above are all duplicates. There seems to be no reason for including both records so i will now drop all duplicates, and check to ensure there are no further duplicates."
   ]
  },
  {
   "cell_type": "code",
   "execution_count": 19,
   "metadata": {},
   "outputs": [
    {
     "data": {
      "text/plain": [
       "0"
      ]
     },
     "execution_count": 19,
     "metadata": {},
     "output_type": "execute_result"
    }
   ],
   "source": [
    "tracking_df = tracking_df.drop_duplicates()\n",
    "\n",
    "tracking_df.duplicated().sum()"
   ]
  },
  {
   "cell_type": "markdown",
   "metadata": {},
   "source": [
    "### At this point all null values have been handled, and all duplicates removed. The data is much cleaner!\n",
    "\n",
    "Now, it would be beneficial to merge the two dataframes, enabling more comprehensive analysis, such as examining the relationship between `conservation_status` and `common_names`."
   ]
  },
  {
   "cell_type": "code",
   "execution_count": 20,
   "metadata": {},
   "outputs": [],
   "source": [
    "data = pd.merge(species_df, tracking_df, on='scientific_name')"
   ]
  },
  {
   "cell_type": "code",
   "execution_count": 21,
   "metadata": {},
   "outputs": [
    {
     "data": {
      "text/html": [
       "<div>\n",
       "<style scoped>\n",
       "    .dataframe tbody tr th:only-of-type {\n",
       "        vertical-align: middle;\n",
       "    }\n",
       "\n",
       "    .dataframe tbody tr th {\n",
       "        vertical-align: top;\n",
       "    }\n",
       "\n",
       "    .dataframe thead th {\n",
       "        text-align: right;\n",
       "    }\n",
       "</style>\n",
       "<table border=\"1\" class=\"dataframe\">\n",
       "  <thead>\n",
       "    <tr style=\"text-align: right;\">\n",
       "      <th></th>\n",
       "      <th>category</th>\n",
       "      <th>scientific_name</th>\n",
       "      <th>common_names</th>\n",
       "      <th>conservation_status</th>\n",
       "      <th>park_name</th>\n",
       "      <th>observations</th>\n",
       "    </tr>\n",
       "  </thead>\n",
       "  <tbody>\n",
       "    <tr>\n",
       "      <th>4</th>\n",
       "      <td>Mammal</td>\n",
       "      <td>Bos bison</td>\n",
       "      <td>American Bison, Bison</td>\n",
       "      <td>Healthy</td>\n",
       "      <td>Yosemite National Park</td>\n",
       "      <td>128</td>\n",
       "    </tr>\n",
       "    <tr>\n",
       "      <th>5</th>\n",
       "      <td>Mammal</td>\n",
       "      <td>Bos bison</td>\n",
       "      <td>American Bison, Bison</td>\n",
       "      <td>Healthy</td>\n",
       "      <td>Yellowstone National Park</td>\n",
       "      <td>269</td>\n",
       "    </tr>\n",
       "    <tr>\n",
       "      <th>6</th>\n",
       "      <td>Mammal</td>\n",
       "      <td>Bos bison</td>\n",
       "      <td>American Bison, Bison</td>\n",
       "      <td>Healthy</td>\n",
       "      <td>Bryce National Park</td>\n",
       "      <td>68</td>\n",
       "    </tr>\n",
       "    <tr>\n",
       "      <th>7</th>\n",
       "      <td>Mammal</td>\n",
       "      <td>Bos bison</td>\n",
       "      <td>American Bison, Bison</td>\n",
       "      <td>Healthy</td>\n",
       "      <td>Great Smoky Mountains National Park</td>\n",
       "      <td>77</td>\n",
       "    </tr>\n",
       "  </tbody>\n",
       "</table>\n",
       "</div>"
      ],
      "text/plain": [
       "  category scientific_name           common_names conservation_status  \\\n",
       "4   Mammal       Bos bison  American Bison, Bison             Healthy   \n",
       "5   Mammal       Bos bison  American Bison, Bison             Healthy   \n",
       "6   Mammal       Bos bison  American Bison, Bison             Healthy   \n",
       "7   Mammal       Bos bison  American Bison, Bison             Healthy   \n",
       "\n",
       "                             park_name  observations  \n",
       "4               Yosemite National Park           128  \n",
       "5            Yellowstone National Park           269  \n",
       "6                  Bryce National Park            68  \n",
       "7  Great Smoky Mountains National Park            77  "
      ]
     },
     "execution_count": 21,
     "metadata": {},
     "output_type": "execute_result"
    }
   ],
   "source": [
    "check = data[data['scientific_name'] == 'Bos bison']\n",
    "check"
   ]
  },
  {
   "cell_type": "code",
   "execution_count": 22,
   "metadata": {},
   "outputs": [
    {
     "data": {
      "text/html": [
       "<div>\n",
       "<style scoped>\n",
       "    .dataframe tbody tr th:only-of-type {\n",
       "        vertical-align: middle;\n",
       "    }\n",
       "\n",
       "    .dataframe tbody tr th {\n",
       "        vertical-align: top;\n",
       "    }\n",
       "\n",
       "    .dataframe thead th {\n",
       "        text-align: right;\n",
       "    }\n",
       "</style>\n",
       "<table border=\"1\" class=\"dataframe\">\n",
       "  <thead>\n",
       "    <tr style=\"text-align: right;\">\n",
       "      <th></th>\n",
       "      <th>category</th>\n",
       "      <th>scientific_name</th>\n",
       "      <th>common_names</th>\n",
       "      <th>conservation_status</th>\n",
       "      <th>park_name</th>\n",
       "      <th>observations</th>\n",
       "    </tr>\n",
       "  </thead>\n",
       "  <tbody>\n",
       "    <tr>\n",
       "      <th>69</th>\n",
       "      <td>Mammal</td>\n",
       "      <td>Canis lupus</td>\n",
       "      <td>Gray Wolf</td>\n",
       "      <td>Endangered</td>\n",
       "      <td>Bryce National Park</td>\n",
       "      <td>27</td>\n",
       "    </tr>\n",
       "    <tr>\n",
       "      <th>70</th>\n",
       "      <td>Mammal</td>\n",
       "      <td>Canis lupus</td>\n",
       "      <td>Gray Wolf</td>\n",
       "      <td>Endangered</td>\n",
       "      <td>Bryce National Park</td>\n",
       "      <td>29</td>\n",
       "    </tr>\n",
       "    <tr>\n",
       "      <th>71</th>\n",
       "      <td>Mammal</td>\n",
       "      <td>Canis lupus</td>\n",
       "      <td>Gray Wolf</td>\n",
       "      <td>Endangered</td>\n",
       "      <td>Bryce National Park</td>\n",
       "      <td>74</td>\n",
       "    </tr>\n",
       "    <tr>\n",
       "      <th>93</th>\n",
       "      <td>Mammal</td>\n",
       "      <td>Canis lupus</td>\n",
       "      <td>Gray Wolf, Wolf</td>\n",
       "      <td>Endangered</td>\n",
       "      <td>Bryce National Park</td>\n",
       "      <td>27</td>\n",
       "    </tr>\n",
       "    <tr>\n",
       "      <th>94</th>\n",
       "      <td>Mammal</td>\n",
       "      <td>Canis lupus</td>\n",
       "      <td>Gray Wolf, Wolf</td>\n",
       "      <td>Endangered</td>\n",
       "      <td>Bryce National Park</td>\n",
       "      <td>29</td>\n",
       "    </tr>\n",
       "    <tr>\n",
       "      <th>95</th>\n",
       "      <td>Mammal</td>\n",
       "      <td>Canis lupus</td>\n",
       "      <td>Gray Wolf, Wolf</td>\n",
       "      <td>Endangered</td>\n",
       "      <td>Bryce National Park</td>\n",
       "      <td>74</td>\n",
       "    </tr>\n",
       "    <tr>\n",
       "      <th>104</th>\n",
       "      <td>Mammal</td>\n",
       "      <td>Canis rufus</td>\n",
       "      <td>Red Wolf</td>\n",
       "      <td>Endangered</td>\n",
       "      <td>Bryce National Park</td>\n",
       "      <td>30</td>\n",
       "    </tr>\n",
       "    <tr>\n",
       "      <th>362</th>\n",
       "      <td>Mammal</td>\n",
       "      <td>Myotis grisescens</td>\n",
       "      <td>Gray Myotis</td>\n",
       "      <td>Endangered</td>\n",
       "      <td>Bryce National Park</td>\n",
       "      <td>27</td>\n",
       "    </tr>\n",
       "    <tr>\n",
       "      <th>416</th>\n",
       "      <td>Mammal</td>\n",
       "      <td>Myotis sodalis</td>\n",
       "      <td>Indiana Bat, Indiana Or Social Myotis</td>\n",
       "      <td>Endangered</td>\n",
       "      <td>Bryce National Park</td>\n",
       "      <td>27</td>\n",
       "    </tr>\n",
       "    <tr>\n",
       "      <th>626</th>\n",
       "      <td>Mammal</td>\n",
       "      <td>Glaucomys sabrinus coloratus</td>\n",
       "      <td>Carolina Northern Flying Squirrel, Northern Fl...</td>\n",
       "      <td>Endangered</td>\n",
       "      <td>Bryce National Park</td>\n",
       "      <td>29</td>\n",
       "    </tr>\n",
       "    <tr>\n",
       "      <th>1160</th>\n",
       "      <td>Bird</td>\n",
       "      <td>Grus americana</td>\n",
       "      <td>Whooping Crane</td>\n",
       "      <td>Endangered</td>\n",
       "      <td>Bryce National Park</td>\n",
       "      <td>24</td>\n",
       "    </tr>\n",
       "    <tr>\n",
       "      <th>1642</th>\n",
       "      <td>Bird</td>\n",
       "      <td>Vermivora bachmanii</td>\n",
       "      <td>Bachman's Warbler, Bachman's Wood Warbler</td>\n",
       "      <td>Endangered</td>\n",
       "      <td>Bryce National Park</td>\n",
       "      <td>20</td>\n",
       "    </tr>\n",
       "    <tr>\n",
       "      <th>1973</th>\n",
       "      <td>Bird</td>\n",
       "      <td>Picoides borealis</td>\n",
       "      <td>Red-Cockaded Woodpecker</td>\n",
       "      <td>Endangered</td>\n",
       "      <td>Bryce National Park</td>\n",
       "      <td>24</td>\n",
       "    </tr>\n",
       "    <tr>\n",
       "      <th>2796</th>\n",
       "      <td>Fish</td>\n",
       "      <td>Etheostoma percnurum</td>\n",
       "      <td>Duskytail Darter</td>\n",
       "      <td>Endangered</td>\n",
       "      <td>Bryce National Park</td>\n",
       "      <td>25</td>\n",
       "    </tr>\n",
       "    <tr>\n",
       "      <th>2940</th>\n",
       "      <td>Fish</td>\n",
       "      <td>Noturus baileyi</td>\n",
       "      <td>Smoky Madtom</td>\n",
       "      <td>Endangered</td>\n",
       "      <td>Bryce National Park</td>\n",
       "      <td>22</td>\n",
       "    </tr>\n",
       "    <tr>\n",
       "      <th>13007</th>\n",
       "      <td>Vascular Plant</td>\n",
       "      <td>Geum radiatum</td>\n",
       "      <td>Mountain Avens, Spreading Avens</td>\n",
       "      <td>Endangered</td>\n",
       "      <td>Bryce National Park</td>\n",
       "      <td>25</td>\n",
       "    </tr>\n",
       "    <tr>\n",
       "      <th>16331</th>\n",
       "      <td>Fish</td>\n",
       "      <td>Chasmistes liorus</td>\n",
       "      <td>June Sucker</td>\n",
       "      <td>Endangered</td>\n",
       "      <td>Bryce National Park</td>\n",
       "      <td>23</td>\n",
       "    </tr>\n",
       "    <tr>\n",
       "      <th>20507</th>\n",
       "      <td>Mammal</td>\n",
       "      <td>Ovis canadensis sierrae</td>\n",
       "      <td>Sierra Nevada Bighorn Sheep</td>\n",
       "      <td>Endangered</td>\n",
       "      <td>Bryce National Park</td>\n",
       "      <td>22</td>\n",
       "    </tr>\n",
       "    <tr>\n",
       "      <th>20661</th>\n",
       "      <td>Bird</td>\n",
       "      <td>Gymnogyps californianus</td>\n",
       "      <td>California Condor</td>\n",
       "      <td>Endangered</td>\n",
       "      <td>Bryce National Park</td>\n",
       "      <td>30</td>\n",
       "    </tr>\n",
       "    <tr>\n",
       "      <th>20983</th>\n",
       "      <td>Amphibian</td>\n",
       "      <td>Rana sierrae</td>\n",
       "      <td>Sierra Nevada Yellow-Legged Frog</td>\n",
       "      <td>Endangered</td>\n",
       "      <td>Bryce National Park</td>\n",
       "      <td>31</td>\n",
       "    </tr>\n",
       "  </tbody>\n",
       "</table>\n",
       "</div>"
      ],
      "text/plain": [
       "             category               scientific_name  \\\n",
       "69             Mammal                   Canis lupus   \n",
       "70             Mammal                   Canis lupus   \n",
       "71             Mammal                   Canis lupus   \n",
       "93             Mammal                   Canis lupus   \n",
       "94             Mammal                   Canis lupus   \n",
       "95             Mammal                   Canis lupus   \n",
       "104            Mammal                   Canis rufus   \n",
       "362            Mammal             Myotis grisescens   \n",
       "416            Mammal                Myotis sodalis   \n",
       "626            Mammal  Glaucomys sabrinus coloratus   \n",
       "1160             Bird                Grus americana   \n",
       "1642             Bird           Vermivora bachmanii   \n",
       "1973             Bird             Picoides borealis   \n",
       "2796             Fish          Etheostoma percnurum   \n",
       "2940             Fish               Noturus baileyi   \n",
       "13007  Vascular Plant                 Geum radiatum   \n",
       "16331            Fish             Chasmistes liorus   \n",
       "20507          Mammal       Ovis canadensis sierrae   \n",
       "20661            Bird       Gymnogyps californianus   \n",
       "20983       Amphibian                  Rana sierrae   \n",
       "\n",
       "                                            common_names conservation_status  \\\n",
       "69                                             Gray Wolf          Endangered   \n",
       "70                                             Gray Wolf          Endangered   \n",
       "71                                             Gray Wolf          Endangered   \n",
       "93                                       Gray Wolf, Wolf          Endangered   \n",
       "94                                       Gray Wolf, Wolf          Endangered   \n",
       "95                                       Gray Wolf, Wolf          Endangered   \n",
       "104                                             Red Wolf          Endangered   \n",
       "362                                          Gray Myotis          Endangered   \n",
       "416                Indiana Bat, Indiana Or Social Myotis          Endangered   \n",
       "626    Carolina Northern Flying Squirrel, Northern Fl...          Endangered   \n",
       "1160                                      Whooping Crane          Endangered   \n",
       "1642           Bachman's Warbler, Bachman's Wood Warbler          Endangered   \n",
       "1973                             Red-Cockaded Woodpecker          Endangered   \n",
       "2796                                    Duskytail Darter          Endangered   \n",
       "2940                                        Smoky Madtom          Endangered   \n",
       "13007                    Mountain Avens, Spreading Avens          Endangered   \n",
       "16331                                        June Sucker          Endangered   \n",
       "20507                        Sierra Nevada Bighorn Sheep          Endangered   \n",
       "20661                                  California Condor          Endangered   \n",
       "20983                   Sierra Nevada Yellow-Legged Frog          Endangered   \n",
       "\n",
       "                 park_name  observations  \n",
       "69     Bryce National Park            27  \n",
       "70     Bryce National Park            29  \n",
       "71     Bryce National Park            74  \n",
       "93     Bryce National Park            27  \n",
       "94     Bryce National Park            29  \n",
       "95     Bryce National Park            74  \n",
       "104    Bryce National Park            30  \n",
       "362    Bryce National Park            27  \n",
       "416    Bryce National Park            27  \n",
       "626    Bryce National Park            29  \n",
       "1160   Bryce National Park            24  \n",
       "1642   Bryce National Park            20  \n",
       "1973   Bryce National Park            24  \n",
       "2796   Bryce National Park            25  \n",
       "2940   Bryce National Park            22  \n",
       "13007  Bryce National Park            25  \n",
       "16331  Bryce National Park            23  \n",
       "20507  Bryce National Park            22  \n",
       "20661  Bryce National Park            30  \n",
       "20983  Bryce National Park            31  "
      ]
     },
     "execution_count": 22,
     "metadata": {},
     "output_type": "execute_result"
    }
   ],
   "source": [
    "check2 = data[(data.park_name == 'Bryce National Park') & (data.conservation_status == 'Endangered')]\n",
    "\n",
    "check2"
   ]
  },
  {
   "cell_type": "markdown",
   "metadata": {},
   "source": [
    "### We can now see how helpful it is to combine both dataframes into 1 dataframe. With this quick example, 'check'/'check2' show that: a) The American Bison is 'Healthy' in all parks, and b) \n",
    "\n",
    "Perhaps, some parks have higher concentrations of non-healthy species? And if so, do some category types (e.g. mammal, fish,etc.) have a high liklihood of becoming non-healthy?"
   ]
  },
  {
   "cell_type": "code",
   "execution_count": 23,
   "metadata": {},
   "outputs": [
    {
     "data": {
      "image/png": "[encoded data removed]",
      "text/plain": [
       "<Figure size 640x480 with 1 Axes>"
      ]
     },
     "metadata": {},
     "output_type": "display_data"
    },
    {
     "data": {
      "text/plain": [
       "<Figure size 640x480 with 0 Axes>"
      ]
     },
     "metadata": {},
     "output_type": "display_data"
    }
   ],
   "source": [
    "plt.bar(x=check.park_name,height=check.observations,color=['red','blue','green','black'])\n",
    "plt.xticks(np.arange(4)-0.5,check.park_name,rotation=45)\n",
    "plt.title(\"Bos bison Frequency by National Park\")\n",
    "plt.show()\n",
    "plt.clf()"
   ]
  },
  {
   "cell_type": "markdown",
   "metadata": {},
   "source": [
    "The bar plot clearly highlights the national park in which the American Bison is most commonly sighted. \n",
    "**This sample of data visually helps me understand the dataset better, so when it comes to conducting a comprehensive analysis, I am more prepared.**"
   ]
  },
  {
   "cell_type": "markdown",
   "metadata": {},
   "source": [
    "## Summary Statistics\n",
    "Before performing **Exploratory Data Analysis**, I want to learn about the summary statistics. Now that my data is clean, and both csv files are merged into 1 Dataframe (joined by their shared column, `scientific_name`), I think it is a great time to see the summary statistics:"
   ]
  },
  {
   "cell_type": "code",
   "execution_count": 24,
   "metadata": {},
   "outputs": [
    {
     "data": {
      "text/html": [
       "<div>\n",
       "<style scoped>\n",
       "    .dataframe tbody tr th:only-of-type {\n",
       "        vertical-align: middle;\n",
       "    }\n",
       "\n",
       "    .dataframe tbody tr th {\n",
       "        vertical-align: top;\n",
       "    }\n",
       "\n",
       "    .dataframe thead th {\n",
       "        text-align: right;\n",
       "    }\n",
       "</style>\n",
       "<table border=\"1\" class=\"dataframe\">\n",
       "  <thead>\n",
       "    <tr style=\"text-align: right;\">\n",
       "      <th></th>\n",
       "      <th>category</th>\n",
       "      <th>scientific_name</th>\n",
       "      <th>common_names</th>\n",
       "      <th>conservation_status</th>\n",
       "      <th>park_name</th>\n",
       "      <th>observations</th>\n",
       "    </tr>\n",
       "  </thead>\n",
       "  <tbody>\n",
       "    <tr>\n",
       "      <th>count</th>\n",
       "      <td>25601</td>\n",
       "      <td>25601</td>\n",
       "      <td>25601</td>\n",
       "      <td>25601</td>\n",
       "      <td>25601</td>\n",
       "      <td>25601.000000</td>\n",
       "    </tr>\n",
       "    <tr>\n",
       "      <th>unique</th>\n",
       "      <td>7</td>\n",
       "      <td>5541</td>\n",
       "      <td>5504</td>\n",
       "      <td>5</td>\n",
       "      <td>4</td>\n",
       "      <td>NaN</td>\n",
       "    </tr>\n",
       "    <tr>\n",
       "      <th>top</th>\n",
       "      <td>Vascular Plant</td>\n",
       "      <td>Hypochaeris radicata</td>\n",
       "      <td>Brachythecium Moss</td>\n",
       "      <td>Healthy</td>\n",
       "      <td>Bryce National Park</td>\n",
       "      <td>NaN</td>\n",
       "    </tr>\n",
       "    <tr>\n",
       "      <th>freq</th>\n",
       "      <td>19534</td>\n",
       "      <td>36</td>\n",
       "      <td>28</td>\n",
       "      <td>24721</td>\n",
       "      <td>6406</td>\n",
       "      <td>NaN</td>\n",
       "    </tr>\n",
       "    <tr>\n",
       "      <th>mean</th>\n",
       "      <td>NaN</td>\n",
       "      <td>NaN</td>\n",
       "      <td>NaN</td>\n",
       "      <td>NaN</td>\n",
       "      <td>NaN</td>\n",
       "      <td>142.196477</td>\n",
       "    </tr>\n",
       "    <tr>\n",
       "      <th>std</th>\n",
       "      <td>NaN</td>\n",
       "      <td>NaN</td>\n",
       "      <td>NaN</td>\n",
       "      <td>NaN</td>\n",
       "      <td>NaN</td>\n",
       "      <td>69.901035</td>\n",
       "    </tr>\n",
       "    <tr>\n",
       "      <th>min</th>\n",
       "      <td>NaN</td>\n",
       "      <td>NaN</td>\n",
       "      <td>NaN</td>\n",
       "      <td>NaN</td>\n",
       "      <td>NaN</td>\n",
       "      <td>9.000000</td>\n",
       "    </tr>\n",
       "    <tr>\n",
       "      <th>25%</th>\n",
       "      <td>NaN</td>\n",
       "      <td>NaN</td>\n",
       "      <td>NaN</td>\n",
       "      <td>NaN</td>\n",
       "      <td>NaN</td>\n",
       "      <td>86.000000</td>\n",
       "    </tr>\n",
       "    <tr>\n",
       "      <th>50%</th>\n",
       "      <td>NaN</td>\n",
       "      <td>NaN</td>\n",
       "      <td>NaN</td>\n",
       "      <td>NaN</td>\n",
       "      <td>NaN</td>\n",
       "      <td>123.000000</td>\n",
       "    </tr>\n",
       "    <tr>\n",
       "      <th>75%</th>\n",
       "      <td>NaN</td>\n",
       "      <td>NaN</td>\n",
       "      <td>NaN</td>\n",
       "      <td>NaN</td>\n",
       "      <td>NaN</td>\n",
       "      <td>195.000000</td>\n",
       "    </tr>\n",
       "    <tr>\n",
       "      <th>max</th>\n",
       "      <td>NaN</td>\n",
       "      <td>NaN</td>\n",
       "      <td>NaN</td>\n",
       "      <td>NaN</td>\n",
       "      <td>NaN</td>\n",
       "      <td>321.000000</td>\n",
       "    </tr>\n",
       "  </tbody>\n",
       "</table>\n",
       "</div>"
      ],
      "text/plain": [
       "              category       scientific_name        common_names  \\\n",
       "count            25601                 25601               25601   \n",
       "unique               7                  5541                5504   \n",
       "top     Vascular Plant  Hypochaeris radicata  Brachythecium Moss   \n",
       "freq             19534                    36                  28   \n",
       "mean               NaN                   NaN                 NaN   \n",
       "std                NaN                   NaN                 NaN   \n",
       "min                NaN                   NaN                 NaN   \n",
       "25%                NaN                   NaN                 NaN   \n",
       "50%                NaN                   NaN                 NaN   \n",
       "75%                NaN                   NaN                 NaN   \n",
       "max                NaN                   NaN                 NaN   \n",
       "\n",
       "       conservation_status            park_name  observations  \n",
       "count                25601                25601  25601.000000  \n",
       "unique                   5                    4           NaN  \n",
       "top                Healthy  Bryce National Park           NaN  \n",
       "freq                 24721                 6406           NaN  \n",
       "mean                   NaN                  NaN    142.196477  \n",
       "std                    NaN                  NaN     69.901035  \n",
       "min                    NaN                  NaN      9.000000  \n",
       "25%                    NaN                  NaN     86.000000  \n",
       "50%                    NaN                  NaN    123.000000  \n",
       "75%                    NaN                  NaN    195.000000  \n",
       "max                    NaN                  NaN    321.000000  "
      ]
     },
     "execution_count": 24,
     "metadata": {},
     "output_type": "execute_result"
    }
   ],
   "source": [
    "sum_stats = data.describe(include='all')\n",
    "sum_stats"
   ]
  },
  {
   "cell_type": "code",
   "execution_count": 25,
   "metadata": {},
   "outputs": [
    {
     "data": {
      "text/plain": [
       "category\n",
       "Amphibian              45068\n",
       "Reptile                45822\n",
       "Fish                   72901\n",
       "Mammal                162608\n",
       "Nonvascular Plant     190653\n",
       "Bird                  331606\n",
       "Vascular Plant       2791714\n",
       "Name: observations, dtype: int64"
      ]
     },
     "execution_count": 25,
     "metadata": {},
     "output_type": "execute_result"
    }
   ],
   "source": [
    "# There are 7 different values for `category`, still I will look closer...\n",
    "category_totals = data.groupby('category')['observations'].sum().sort_values()\n",
    "\n",
    "category_totals"
   ]
  },
  {
   "cell_type": "code",
   "execution_count": 26,
   "metadata": {},
   "outputs": [
    {
     "data": {
      "text/plain": [
       "park_name\n",
       "Great Smoky Mountains National Park     473979\n",
       "Bryce National Park                     633043\n",
       "Yosemite National Park                  948460\n",
       "Yellowstone National Park              1584890\n",
       "Name: observations, dtype: int64"
      ]
     },
     "execution_count": 26,
     "metadata": {},
     "output_type": "execute_result"
    }
   ],
   "source": [
    "# I see the average park has 142 observations, but let's also look closer here...\n",
    "park_totals = data.groupby('park_name')['observations'].sum().sort_values()\n",
    "\n",
    "park_totals"
   ]
  },
  {
   "cell_type": "markdown",
   "metadata": {},
   "source": [
    "## Exploring Distribution by National Park for All Species\n",
    "At this point the data is clean, summary stats are known, and I have started learning more about the relationships within the dataset.\n",
    "\n",
    "To begin my EDA now, I want to compare the total distribution of species across all national parks. This can help tell me if some parks are home to more species in general, and also individually."
   ]
  },
  {
   "cell_type": "code",
   "execution_count": 27,
   "metadata": {},
   "outputs": [],
   "source": [
    "import matplotlib.cm as cm\n",
    "x = np.arange(len(data))\n",
    "\n",
    "colors = cm.tab10(x)"
   ]
  },
  {
   "cell_type": "code",
   "execution_count": 28,
   "metadata": {},
   "outputs": [
    {
     "data": {
      "image/png": "[encoded data removed]",
      "text/plain": [
       "<Figure size 640x480 with 1 Axes>"
      ]
     },
     "metadata": {},
     "output_type": "display_data"
    },
    {
     "data": {
      "text/plain": [
       "<Figure size 640x480 with 0 Axes>"
      ]
     },
     "metadata": {},
     "output_type": "display_data"
    }
   ],
   "source": [
    "x = park_totals.index\n",
    "height = park_totals\n",
    "\n",
    "ax = plt.subplot(1,1,1)\n",
    "plt.bar(x,height,color=colors)\n",
    "ax.set_xticks(ticks=np.arange(4)-.45,labels=x)\n",
    "ax.set_xticklabels(x,rotation=40)\n",
    "plt.title(\"Total Observations by National Park\")\n",
    "plt.xlabel(\"National Park\")\n",
    "plt.ylabel(\"Number of Observations\")\n",
    "plt.show()\n",
    "plt.clf()"
   ]
  },
  {
   "cell_type": "markdown",
   "metadata": {},
   "source": [
    "### The most frequent observations occur in Yellowstone National Park. \n",
    "Now lets compare the distribution of conservation status with the types of species, to help answer q1."
   ]
  },
  {
   "cell_type": "code",
   "execution_count": 29,
   "metadata": {},
   "outputs": [
    {
     "data": {
      "text/html": [
       "<div>\n",
       "<style scoped>\n",
       "    .dataframe tbody tr th:only-of-type {\n",
       "        vertical-align: middle;\n",
       "    }\n",
       "\n",
       "    .dataframe tbody tr th {\n",
       "        vertical-align: top;\n",
       "    }\n",
       "\n",
       "    .dataframe thead th {\n",
       "        text-align: right;\n",
       "    }\n",
       "</style>\n",
       "<table border=\"1\" class=\"dataframe\">\n",
       "  <thead>\n",
       "    <tr style=\"text-align: right;\">\n",
       "      <th>category</th>\n",
       "      <th>Amphibian</th>\n",
       "      <th>Bird</th>\n",
       "      <th>Fish</th>\n",
       "      <th>Mammal</th>\n",
       "      <th>Nonvascular Plant</th>\n",
       "      <th>Reptile</th>\n",
       "      <th>Vascular Plant</th>\n",
       "    </tr>\n",
       "    <tr>\n",
       "      <th>conservation_status</th>\n",
       "      <th></th>\n",
       "      <th></th>\n",
       "      <th></th>\n",
       "      <th></th>\n",
       "      <th></th>\n",
       "      <th></th>\n",
       "      <th></th>\n",
       "    </tr>\n",
       "  </thead>\n",
       "  <tbody>\n",
       "    <tr>\n",
       "      <th>Endangered</th>\n",
       "      <td>1.0</td>\n",
       "      <td>4.0</td>\n",
       "      <td>3.0</td>\n",
       "      <td>7.0</td>\n",
       "      <td>NaN</td>\n",
       "      <td>NaN</td>\n",
       "      <td>1.0</td>\n",
       "    </tr>\n",
       "    <tr>\n",
       "      <th>In Recovery</th>\n",
       "      <td>NaN</td>\n",
       "      <td>3.0</td>\n",
       "      <td>NaN</td>\n",
       "      <td>1.0</td>\n",
       "      <td>NaN</td>\n",
       "      <td>NaN</td>\n",
       "      <td>NaN</td>\n",
       "    </tr>\n",
       "    <tr>\n",
       "      <th>Species of Concern</th>\n",
       "      <td>4.0</td>\n",
       "      <td>72.0</td>\n",
       "      <td>4.0</td>\n",
       "      <td>28.0</td>\n",
       "      <td>5.0</td>\n",
       "      <td>5.0</td>\n",
       "      <td>43.0</td>\n",
       "    </tr>\n",
       "    <tr>\n",
       "      <th>Threatened</th>\n",
       "      <td>2.0</td>\n",
       "      <td>NaN</td>\n",
       "      <td>4.0</td>\n",
       "      <td>2.0</td>\n",
       "      <td>NaN</td>\n",
       "      <td>NaN</td>\n",
       "      <td>2.0</td>\n",
       "    </tr>\n",
       "  </tbody>\n",
       "</table>\n",
       "</div>"
      ],
      "text/plain": [
       "category             Amphibian  Bird  Fish  Mammal  Nonvascular Plant  \\\n",
       "conservation_status                                                     \n",
       "Endangered                 1.0   4.0   3.0     7.0                NaN   \n",
       "In Recovery                NaN   3.0   NaN     1.0                NaN   \n",
       "Species of Concern         4.0  72.0   4.0    28.0                5.0   \n",
       "Threatened                 2.0   NaN   4.0     2.0                NaN   \n",
       "\n",
       "category             Reptile  Vascular Plant  \n",
       "conservation_status                           \n",
       "Endangered               NaN             1.0  \n",
       "In Recovery              NaN             NaN  \n",
       "Species of Concern       5.0            43.0  \n",
       "Threatened               NaN             2.0  "
      ]
     },
     "execution_count": 29,
     "metadata": {},
     "output_type": "execute_result"
    }
   ],
   "source": [
    "conservation_category = pd.pivot_table(species_df[species_df['conservation_status'] != 'Healthy'],\n",
    "                                      values = 'common_names',\n",
    "                                      index = 'conservation_status',\n",
    "                                      columns = 'category',\n",
    "                                      aggfunc = pd.Series.count)\n",
    "\n",
    "conservation_category"
   ]
  },
  {
   "cell_type": "code",
   "execution_count": 30,
   "metadata": {},
   "outputs": [
    {
     "data": {
      "image/png": "[encoded data removed]",
      "text/plain": [
       "<Figure size 500x1000 with 7 Axes>"
      ]
     },
     "metadata": {},
     "output_type": "display_data"
    }
   ],
   "source": [
    "conservation_category.plot(kind = 'barh',\n",
    "                          subplots=True,\n",
    "                          xlabel = \"Observation Count\",\n",
    "                          title = 'Conservation Status Comparison',\n",
    "                          ylabel = \" \",\n",
    "                          figsize=(5,10),\n",
    "                          legend=False)\n",
    "\n",
    "plt.tight_layout()"
   ]
  },
  {
   "cell_type": "markdown",
   "metadata": {},
   "source": [
    "### I will now combine conservation_status to compare ALL non-healthy observations by species category."
   ]
  },
  {
   "cell_type": "code",
   "execution_count": 31,
   "metadata": {},
   "outputs": [],
   "source": [
    "species_df['protected'] = species_df['conservation_status'] != 'Healthy'"
   ]
  },
  {
   "cell_type": "code",
   "execution_count": 32,
   "metadata": {},
   "outputs": [
    {
     "data": {
      "text/plain": [
       "Index([False, True], dtype='bool', name='protected')"
      ]
     },
     "execution_count": 32,
     "metadata": {},
     "output_type": "execute_result"
    }
   ],
   "source": [
    "protected = species_df.groupby(['protected','category'])['scientific_name'].count().reset_index().pivot_table(values='scientific_name',\n",
    "                                                                                                             index='protected',\n",
    "                                                                                                             columns='category',\n",
    "                                                                                                             aggfunc='sum')\n",
    "\n",
    "protected_f = protected.loc[False]\n",
    "protected_t = protected.loc[True]\n",
    "protected.index"
   ]
  },
  {
   "cell_type": "code",
   "execution_count": 33,
   "metadata": {},
   "outputs": [
    {
     "data": {
      "image/png": "[encoded data removed]",
      "text/plain": [
       "<Figure size 1000x1000 with 1 Axes>"
      ]
     },
     "metadata": {},
     "output_type": "display_data"
    },
    {
     "data": {
      "text/plain": [
       "<Figure size 640x480 with 0 Axes>"
      ]
     },
     "metadata": {},
     "output_type": "display_data"
    }
   ],
   "source": [
    "protected_t.plot(kind = 'bar',\n",
    "              subplots=False,\n",
    "                 color=colors,\n",
    "               figsize=(10,10),\n",
    "               title=\"All Protected Species: Total Count\")\n",
    "              \n",
    "plt.ylabel(\"\")\n",
    "plt.show()\n",
    "plt.clf()"
   ]
  },
  {
   "cell_type": "markdown",
   "metadata": {},
   "source": [
    "**Because this compares absolute values, it will be helpful to also compute the `conservation_status` by percentage for all species.** To compute this, I will first add a column to the species_df called 'protected' which represents if a species has a non-healthy `conservation_status`; this allows me to group all of the healthy and non-healthy species, to compare proprotions. "
   ]
  },
  {
   "cell_type": "code",
   "execution_count": 34,
   "metadata": {},
   "outputs": [
    {
     "data": {
      "text/html": [
       "<div>\n",
       "<style scoped>\n",
       "    .dataframe tbody tr th:only-of-type {\n",
       "        vertical-align: middle;\n",
       "    }\n",
       "\n",
       "    .dataframe tbody tr th {\n",
       "        vertical-align: top;\n",
       "    }\n",
       "\n",
       "    .dataframe thead th {\n",
       "        text-align: right;\n",
       "    }\n",
       "</style>\n",
       "<table border=\"1\" class=\"dataframe\">\n",
       "  <thead>\n",
       "    <tr style=\"text-align: right;\">\n",
       "      <th>protected</th>\n",
       "      <th>False</th>\n",
       "      <th>True</th>\n",
       "      <th>ratio</th>\n",
       "    </tr>\n",
       "    <tr>\n",
       "      <th>category</th>\n",
       "      <th></th>\n",
       "      <th></th>\n",
       "      <th></th>\n",
       "    </tr>\n",
       "  </thead>\n",
       "  <tbody>\n",
       "    <tr>\n",
       "      <th>Amphibian</th>\n",
       "      <td>73</td>\n",
       "      <td>7</td>\n",
       "      <td>8.750000</td>\n",
       "    </tr>\n",
       "    <tr>\n",
       "      <th>Bird</th>\n",
       "      <td>442</td>\n",
       "      <td>79</td>\n",
       "      <td>15.163148</td>\n",
       "    </tr>\n",
       "    <tr>\n",
       "      <th>Fish</th>\n",
       "      <td>116</td>\n",
       "      <td>11</td>\n",
       "      <td>8.661417</td>\n",
       "    </tr>\n",
       "    <tr>\n",
       "      <th>Mammal</th>\n",
       "      <td>176</td>\n",
       "      <td>38</td>\n",
       "      <td>17.757009</td>\n",
       "    </tr>\n",
       "    <tr>\n",
       "      <th>Nonvascular Plant</th>\n",
       "      <td>328</td>\n",
       "      <td>5</td>\n",
       "      <td>1.501502</td>\n",
       "    </tr>\n",
       "    <tr>\n",
       "      <th>Reptile</th>\n",
       "      <td>74</td>\n",
       "      <td>5</td>\n",
       "      <td>6.329114</td>\n",
       "    </tr>\n",
       "    <tr>\n",
       "      <th>Vascular Plant</th>\n",
       "      <td>4424</td>\n",
       "      <td>46</td>\n",
       "      <td>1.029083</td>\n",
       "    </tr>\n",
       "  </tbody>\n",
       "</table>\n",
       "</div>"
      ],
      "text/plain": [
       "protected          False  True      ratio\n",
       "category                                 \n",
       "Amphibian             73     7   8.750000\n",
       "Bird                 442    79  15.163148\n",
       "Fish                 116    11   8.661417\n",
       "Mammal               176    38  17.757009\n",
       "Nonvascular Plant    328     5   1.501502\n",
       "Reptile               74     5   6.329114\n",
       "Vascular Plant      4424    46   1.029083"
      ]
     },
     "execution_count": 34,
     "metadata": {},
     "output_type": "execute_result"
    }
   ],
   "source": [
    "protected_T = protected.T\n",
    "protected_T['ratio'] = (protected_t / (protected_t + protected_f))*100\n",
    "\n",
    "\n",
    "protected_T"
   ]
  },
  {
   "cell_type": "markdown",
   "metadata": {},
   "source": [
    "## Although Birds have the most absolute protection, they are not the most likely to be protected! \n",
    "### Infact, on a proportional basis, Mammals are the most frequently protected at 17%; while Birds are protected 15% of the time.\n",
    "\n",
    "#### Could this point to a human bias - choosing to protect fellow mammals more than anything else?! Further analysis would need to look at factors contributing to decisions for protecting a species to answer this puzzle!"
   ]
  },
  {
   "cell_type": "markdown",
   "metadata": {},
   "source": [
    "# Significant Differences across Species?\n",
    "\n",
    "Now I will investigate the statistical significance of the species `conservation_status`, to help determine if there is a significant association between the species group (mammals, birds, etc.) and their conservation status (protected or not protected).\n",
    "\n",
    "**To determine statistical significance, I will use the Chi-Square test.** First, I will comput the contingency table as observed, and then expected, using scipy.stats."
   ]
  },
  {
   "cell_type": "code",
   "execution_count": 35,
   "metadata": {},
   "outputs": [],
   "source": [
    "from scipy.stats import chi2_contingency"
   ]
  },
  {
   "cell_type": "markdown",
   "metadata": {},
   "source": [
    "First I will find the p values for  a chi-squared test between mammals and vascular plants."
   ]
  },
  {
   "cell_type": "code",
   "execution_count": 36,
   "metadata": {},
   "outputs": [
    {
     "data": {
      "text/html": [
       "<div>\n",
       "<style scoped>\n",
       "    .dataframe tbody tr th:only-of-type {\n",
       "        vertical-align: middle;\n",
       "    }\n",
       "\n",
       "    .dataframe tbody tr th {\n",
       "        vertical-align: top;\n",
       "    }\n",
       "\n",
       "    .dataframe thead th {\n",
       "        text-align: right;\n",
       "    }\n",
       "</style>\n",
       "<table border=\"1\" class=\"dataframe\">\n",
       "  <thead>\n",
       "    <tr style=\"text-align: right;\">\n",
       "      <th></th>\n",
       "      <th>O_Protected</th>\n",
       "      <th>O_Not-Protected</th>\n",
       "    </tr>\n",
       "  </thead>\n",
       "  <tbody>\n",
       "    <tr>\n",
       "      <th>Mammals</th>\n",
       "      <td>38</td>\n",
       "      <td>176</td>\n",
       "    </tr>\n",
       "    <tr>\n",
       "      <th>Vascular Plants</th>\n",
       "      <td>46</td>\n",
       "      <td>4424</td>\n",
       "    </tr>\n",
       "  </tbody>\n",
       "</table>\n",
       "</div>"
      ],
      "text/plain": [
       "                 O_Protected  O_Not-Protected\n",
       "Mammals                   38              176\n",
       "Vascular Plants           46             4424"
      ]
     },
     "execution_count": 36,
     "metadata": {},
     "output_type": "execute_result"
    }
   ],
   "source": [
    "contingency1 = [[38,176],[46,4424]]\n",
    "\n",
    "contingency1 = pd.DataFrame(contingency1,columns=['O_Protected','O_Not-Protected'],index=['Mammals','Vascular Plants'])\n",
    "\n",
    "contingency1"
   ]
  },
  {
   "cell_type": "markdown",
   "metadata": {},
   "source": [
    "### The table above shows the observed ratios, while the table below shows the expected ratios:"
   ]
  },
  {
   "cell_type": "code",
   "execution_count": 37,
   "metadata": {},
   "outputs": [
    {
     "data": {
      "text/html": [
       "<div>\n",
       "<style scoped>\n",
       "    .dataframe tbody tr th:only-of-type {\n",
       "        vertical-align: middle;\n",
       "    }\n",
       "\n",
       "    .dataframe tbody tr th {\n",
       "        vertical-align: top;\n",
       "    }\n",
       "\n",
       "    .dataframe thead th {\n",
       "        text-align: right;\n",
       "    }\n",
       "</style>\n",
       "<table border=\"1\" class=\"dataframe\">\n",
       "  <thead>\n",
       "    <tr style=\"text-align: right;\">\n",
       "      <th></th>\n",
       "      <th>e_Protected</th>\n",
       "      <th>e_Not-Protected</th>\n",
       "    </tr>\n",
       "  </thead>\n",
       "  <tbody>\n",
       "    <tr>\n",
       "      <th>Mammals</th>\n",
       "      <td>4.0</td>\n",
       "      <td>210.0</td>\n",
       "    </tr>\n",
       "    <tr>\n",
       "      <th>Vascular Plants</th>\n",
       "      <td>80.0</td>\n",
       "      <td>4390.0</td>\n",
       "    </tr>\n",
       "  </tbody>\n",
       "</table>\n",
       "</div>"
      ],
      "text/plain": [
       "                 e_Protected  e_Not-Protected\n",
       "Mammals                  4.0            210.0\n",
       "Vascular Plants         80.0           4390.0"
      ]
     },
     "execution_count": 37,
     "metadata": {},
     "output_type": "execute_result"
    }
   ],
   "source": [
    "chi2, pval, dof, ex = chi2_contingency(contingency1)\n",
    "\n",
    "ex = pd.DataFrame(ex.round(),columns=['e_Protected','e_Not-Protected'],index=['Mammals','Vascular Plants'])\n",
    "\n",
    "ex"
   ]
  },
  {
   "cell_type": "code",
   "execution_count": 38,
   "metadata": {},
   "outputs": [
    {
     "data": {
      "text/plain": [
       "1.7349112437604003e-70"
      ]
     },
     "execution_count": 38,
     "metadata": {},
     "output_type": "execute_result"
    }
   ],
   "source": [
    "pval"
   ]
  },
  {
   "cell_type": "markdown",
   "metadata": {},
   "source": [
    "The pval is extremely low! This gives me reasons to reject the **null hypothesis** which states there is no statistical significance between `conservation_status` and `category` of species - implying that random chance determines the number of protected observations. \n",
    "\n",
    "**The Chi-squared test has helped me determine that atleast for Mammals and Vascular Plants, there is a statistical difference between the observed protection count and the expected; where more mammals were protected than expected!**  \n",
    "*Might this be confirming my intial theory, that humans protect mammals over all else?!*"
   ]
  },
  {
   "cell_type": "markdown",
   "metadata": {},
   "source": [
    "# Which Species are Most Common?\n",
    "\n",
    "Last question I will seek to answer is the most common species observed."
   ]
  },
  {
   "cell_type": "code",
   "execution_count": 39,
   "metadata": {},
   "outputs": [],
   "source": [
    "mammals = species_df[species_df.category == \"Mammal\"].common_names"
   ]
  },
  {
   "cell_type": "code",
   "execution_count": 40,
   "metadata": {},
   "outputs": [
    {
     "data": {
      "text/plain": [
       "0                            [gappers, red, backed, vole]\n",
       "1                                [american, bison, bison]\n",
       "2       [aurochs, aurochs, domestic, cattle, feral, do...\n",
       "3       [domestic, sheep, mouflon, red, sheep, sheep, ...\n",
       "4                                       [wapiti, or, elk]\n",
       "                              ...                        \n",
       "4499                                [mount, lyell, shrew]\n",
       "4500                                     [montane, shrew]\n",
       "4501                                        [inyo, shrew]\n",
       "4502                                 [trowbridges, shrew]\n",
       "4503                                [broad, footed, mole]\n",
       "Name: common_names, Length: 214, dtype: object"
      ]
     },
     "execution_count": 40,
     "metadata": {},
     "output_type": "execute_result"
    }
   ],
   "source": [
    "temp1 = mammals.apply(lambda x: x.lower())\\\n",
    "        .apply(lambda x: x.replace(\"(\",\" \"))\\\n",
    "        .apply(lambda x: x.replace(\")\",\" \"))\\\n",
    "        .apply(lambda x: x.replace(\",\",\" \"))\\\n",
    "        .apply(lambda x: x.replace(\"-\",\" \"))\\\n",
    "        .apply(lambda x: x.replace(\"'\",\"\"))\\\n",
    "        .str.split()\n",
    "\n",
    "temp1"
   ]
  },
  {
   "cell_type": "code",
   "execution_count": 41,
   "metadata": {},
   "outputs": [
    {
     "data": {
      "text/plain": [
       "0                           [gappers, red, backed, vole]\n",
       "1                                      [american, bison]\n",
       "2       [cattle, feral, aurochs, domestic, domesticated]\n",
       "3                 [mouflon, feral, red, domestic, sheep]\n",
       "4                                      [wapiti, elk, or]\n",
       "                              ...                       \n",
       "4499                               [lyell, mount, shrew]\n",
       "4500                                    [montane, shrew]\n",
       "4501                                       [shrew, inyo]\n",
       "4502                                [trowbridges, shrew]\n",
       "4503                               [footed, broad, mole]\n",
       "Name: common_names, Length: 214, dtype: object"
      ]
     },
     "execution_count": 41,
     "metadata": {},
     "output_type": "execute_result"
    }
   ],
   "source": [
    "temp2 = temp1.apply(lambda x: [*set(x)])\n",
    "                    \n",
    "temp2"
   ]
  },
  {
   "cell_type": "code",
   "execution_count": 42,
   "metadata": {},
   "outputs": [
    {
     "data": {
      "text/plain": [
       "0           gappers\n",
       "0               red\n",
       "0            backed\n",
       "0              vole\n",
       "1          american\n",
       "           ...     \n",
       "4502    trowbridges\n",
       "4502          shrew\n",
       "4503         footed\n",
       "4503          broad\n",
       "4503           mole\n",
       "Name: common_names, Length: 581, dtype: object"
      ]
     },
     "execution_count": 42,
     "metadata": {},
     "output_type": "execute_result"
    }
   ],
   "source": [
    "temp3 = temp2.explode()\n",
    "\n",
    "temp3"
   ]
  },
  {
   "cell_type": "code",
   "execution_count": 43,
   "metadata": {},
   "outputs": [
    {
     "data": {
      "text/html": [
       "<div>\n",
       "<style scoped>\n",
       "    .dataframe tbody tr th:only-of-type {\n",
       "        vertical-align: middle;\n",
       "    }\n",
       "\n",
       "    .dataframe tbody tr th {\n",
       "        vertical-align: top;\n",
       "    }\n",
       "\n",
       "    .dataframe thead th {\n",
       "        text-align: right;\n",
       "    }\n",
       "</style>\n",
       "<table border=\"1\" class=\"dataframe\">\n",
       "  <thead>\n",
       "    <tr style=\"text-align: right;\">\n",
       "      <th></th>\n",
       "      <th>index</th>\n",
       "      <th>common_names</th>\n",
       "    </tr>\n",
       "  </thead>\n",
       "  <tbody>\n",
       "    <tr>\n",
       "      <th>0</th>\n",
       "      <td>bat</td>\n",
       "      <td>23</td>\n",
       "    </tr>\n",
       "    <tr>\n",
       "      <th>1</th>\n",
       "      <td>shrew</td>\n",
       "      <td>18</td>\n",
       "    </tr>\n",
       "    <tr>\n",
       "      <th>2</th>\n",
       "      <td>myotis</td>\n",
       "      <td>17</td>\n",
       "    </tr>\n",
       "    <tr>\n",
       "      <th>3</th>\n",
       "      <td>mouse</td>\n",
       "      <td>16</td>\n",
       "    </tr>\n",
       "    <tr>\n",
       "      <th>4</th>\n",
       "      <td>tailed</td>\n",
       "      <td>13</td>\n",
       "    </tr>\n",
       "    <tr>\n",
       "      <th>5</th>\n",
       "      <td>chipmunk</td>\n",
       "      <td>13</td>\n",
       "    </tr>\n",
       "    <tr>\n",
       "      <th>6</th>\n",
       "      <td>american</td>\n",
       "      <td>12</td>\n",
       "    </tr>\n",
       "    <tr>\n",
       "      <th>7</th>\n",
       "      <td>squirrel</td>\n",
       "      <td>12</td>\n",
       "    </tr>\n",
       "    <tr>\n",
       "      <th>8</th>\n",
       "      <td>vole</td>\n",
       "      <td>11</td>\n",
       "    </tr>\n",
       "    <tr>\n",
       "      <th>9</th>\n",
       "      <td>eastern</td>\n",
       "      <td>11</td>\n",
       "    </tr>\n",
       "    <tr>\n",
       "      <th>10</th>\n",
       "      <td>mountain</td>\n",
       "      <td>10</td>\n",
       "    </tr>\n",
       "    <tr>\n",
       "      <th>11</th>\n",
       "      <td>western</td>\n",
       "      <td>10</td>\n",
       "    </tr>\n",
       "    <tr>\n",
       "      <th>12</th>\n",
       "      <td>red</td>\n",
       "      <td>10</td>\n",
       "    </tr>\n",
       "    <tr>\n",
       "      <th>13</th>\n",
       "      <td>long</td>\n",
       "      <td>9</td>\n",
       "    </tr>\n",
       "    <tr>\n",
       "      <th>14</th>\n",
       "      <td>eared</td>\n",
       "      <td>8</td>\n",
       "    </tr>\n",
       "  </tbody>\n",
       "</table>\n",
       "</div>"
      ],
      "text/plain": [
       "       index  common_names\n",
       "0        bat            23\n",
       "1      shrew            18\n",
       "2     myotis            17\n",
       "3      mouse            16\n",
       "4     tailed            13\n",
       "5   chipmunk            13\n",
       "6   american            12\n",
       "7   squirrel            12\n",
       "8       vole            11\n",
       "9    eastern            11\n",
       "10  mountain            10\n",
       "11   western            10\n",
       "12       red            10\n",
       "13      long             9\n",
       "14     eared             8"
      ]
     },
     "execution_count": 43,
     "metadata": {},
     "output_type": "execute_result"
    }
   ],
   "source": [
    "name_count = pd.DataFrame(temp3.value_counts().reset_index())\n",
    "\n",
    "name_count.head(15)"
   ]
  },
  {
   "cell_type": "markdown",
   "metadata": {},
   "source": [
    "### Bats are the most common type of species observed, followed by Shrew.\n",
    "Because there are so many bats, I would like to know the vairety: "
   ]
  },
  {
   "cell_type": "code",
   "execution_count": 44,
   "metadata": {},
   "outputs": [
    {
     "data": {
      "text/html": [
       "<div>\n",
       "<style scoped>\n",
       "    .dataframe tbody tr th:only-of-type {\n",
       "        vertical-align: middle;\n",
       "    }\n",
       "\n",
       "    .dataframe tbody tr th {\n",
       "        vertical-align: top;\n",
       "    }\n",
       "\n",
       "    .dataframe thead th {\n",
       "        text-align: right;\n",
       "    }\n",
       "</style>\n",
       "<table border=\"1\" class=\"dataframe\">\n",
       "  <thead>\n",
       "    <tr style=\"text-align: right;\">\n",
       "      <th></th>\n",
       "      <th>common_names</th>\n",
       "    </tr>\n",
       "  </thead>\n",
       "  <tbody>\n",
       "    <tr>\n",
       "      <th>28</th>\n",
       "      <td>Rafinesque's Big-Eared Bat</td>\n",
       "    </tr>\n",
       "    <tr>\n",
       "      <th>29</th>\n",
       "      <td>Big Brown Bat</td>\n",
       "    </tr>\n",
       "    <tr>\n",
       "      <th>30</th>\n",
       "      <td>Silver-Haired Bat</td>\n",
       "    </tr>\n",
       "    <tr>\n",
       "      <th>31</th>\n",
       "      <td>Eastern Red Bat, Red Bat</td>\n",
       "    </tr>\n",
       "    <tr>\n",
       "      <th>32</th>\n",
       "      <td>Hoary Bat</td>\n",
       "    </tr>\n",
       "    <tr>\n",
       "      <th>36</th>\n",
       "      <td>Eastern Small-Footed Bat, Eastern Small-Footed...</td>\n",
       "    </tr>\n",
       "    <tr>\n",
       "      <th>37</th>\n",
       "      <td>Little Brown Bat, Little Brown Myotis</td>\n",
       "    </tr>\n",
       "    <tr>\n",
       "      <th>38</th>\n",
       "      <td>Northern Long-Eared Bat, Northern Myotis</td>\n",
       "    </tr>\n",
       "    <tr>\n",
       "      <th>39</th>\n",
       "      <td>Indiana Bat, Indiana Or Social Myotis</td>\n",
       "    </tr>\n",
       "    <tr>\n",
       "      <th>40</th>\n",
       "      <td>Evening Bat</td>\n",
       "    </tr>\n",
       "    <tr>\n",
       "      <th>3033</th>\n",
       "      <td>Pallid Bat, Pallid Bat</td>\n",
       "    </tr>\n",
       "    <tr>\n",
       "      <th>3034</th>\n",
       "      <td>Mule-Eared Bat, Pacific Townsend's Big-Eared B...</td>\n",
       "    </tr>\n",
       "    <tr>\n",
       "      <th>3035</th>\n",
       "      <td>Big Brown Bat, Big Brown Bat</td>\n",
       "    </tr>\n",
       "    <tr>\n",
       "      <th>3036</th>\n",
       "      <td>Spotted Bat, Spotted Bat</td>\n",
       "    </tr>\n",
       "    <tr>\n",
       "      <th>3037</th>\n",
       "      <td>Silver-Haired Bat, Silver-Haired Bat</td>\n",
       "    </tr>\n",
       "    <tr>\n",
       "      <th>3038</th>\n",
       "      <td>Hoary Bat, Hoary Bat</td>\n",
       "    </tr>\n",
       "    <tr>\n",
       "      <th>3040</th>\n",
       "      <td>Small-Footed Myotis, Western Small-Footed Bat,...</td>\n",
       "    </tr>\n",
       "    <tr>\n",
       "      <th>3042</th>\n",
       "      <td>Little Brown Bat, Little Brown Myotis, Little ...</td>\n",
       "    </tr>\n",
       "    <tr>\n",
       "      <th>4461</th>\n",
       "      <td>Western Mastiff Bat</td>\n",
       "    </tr>\n",
       "    <tr>\n",
       "      <th>4462</th>\n",
       "      <td>Mexican Free-Tailed Bat</td>\n",
       "    </tr>\n",
       "    <tr>\n",
       "      <th>4463</th>\n",
       "      <td>Townsend's Big-Eared Bat</td>\n",
       "    </tr>\n",
       "    <tr>\n",
       "      <th>4464</th>\n",
       "      <td>Western Red Bat</td>\n",
       "    </tr>\n",
       "    <tr>\n",
       "      <th>4468</th>\n",
       "      <td>Canyon Bat</td>\n",
       "    </tr>\n",
       "  </tbody>\n",
       "</table>\n",
       "</div>"
      ],
      "text/plain": [
       "                                           common_names\n",
       "28                           Rafinesque's Big-Eared Bat\n",
       "29                                        Big Brown Bat\n",
       "30                                    Silver-Haired Bat\n",
       "31                             Eastern Red Bat, Red Bat\n",
       "32                                            Hoary Bat\n",
       "36    Eastern Small-Footed Bat, Eastern Small-Footed...\n",
       "37                Little Brown Bat, Little Brown Myotis\n",
       "38             Northern Long-Eared Bat, Northern Myotis\n",
       "39                Indiana Bat, Indiana Or Social Myotis\n",
       "40                                          Evening Bat\n",
       "3033                             Pallid Bat, Pallid Bat\n",
       "3034  Mule-Eared Bat, Pacific Townsend's Big-Eared B...\n",
       "3035                       Big Brown Bat, Big Brown Bat\n",
       "3036                           Spotted Bat, Spotted Bat\n",
       "3037               Silver-Haired Bat, Silver-Haired Bat\n",
       "3038                               Hoary Bat, Hoary Bat\n",
       "3040  Small-Footed Myotis, Western Small-Footed Bat,...\n",
       "3042  Little Brown Bat, Little Brown Myotis, Little ...\n",
       "4461                                Western Mastiff Bat\n",
       "4462                            Mexican Free-Tailed Bat\n",
       "4463                           Townsend's Big-Eared Bat\n",
       "4464                                    Western Red Bat\n",
       "4468                                         Canyon Bat"
      ]
     },
     "execution_count": 44,
     "metadata": {},
     "output_type": "execute_result"
    }
   ],
   "source": [
    "bat_variety = pd.DataFrame(species_df.common_names.apply(lambda x: x if ' Bat' in x else \"No\"))\n",
    "\n",
    "bat_true = bat_variety[bat_variety.common_names != \"No\"]\n",
    "\n",
    "bat_true"
   ]
  },
  {
   "cell_type": "code",
   "execution_count": 45,
   "metadata": {},
   "outputs": [
    {
     "name": "stdout",
     "output_type": "stream",
     "text": [
      "Check the count to ensure all Bat types where included: 23\n"
     ]
    }
   ],
   "source": [
    "print(f\"Check the count to ensure all Bat types where included: {bat_true.shape[0]}\")"
   ]
  },
  {
   "cell_type": "markdown",
   "metadata": {},
   "source": [
    "# Conclusion\n",
    "\n",
    "This project was a great reminder to me, just how important planning is at the onset of analysis. Specifically, when the data is outside of domain knowledge, I believe it is valuable to spend time critically thinking from the perspective of the researcher/data collector - there is a reason someone spent time collecting this data, which means they have expectations or hope to use it in some meaningful way. At the onset of the project, I did not spend enough time doing this.\n",
    "\n",
    "Therefore, as I was half way through the project I found myself discovering new truths about the dataset I originally overlooked; for instace, I did not realize that the conservation_status was dependent on the species, and not the park_name; this makes sense, because if an animal is endangered it is endangered everywhere, and not just in 1 location typically. **But my initial assumption was perhaps an animal could be endangered in 1 park but not the other.** \n",
    "\n",
    "The errenous assumption proved to add confusion throughout my initial analysis, and it was not until I circled back to the inital dataset descriptions and research questions, that I realized my understanding was not fully accurate.\n",
    "\n",
    "In the end, this project - while challenging my abilities as a data analyst - make me excited! Excited to apply the lessons i gained, so that next project I can produce even more insightful and meaningful analysis. I will spend additional time in future projects planning, and really trying to tap into the mindset of the original researcher that spent time collecting the data to begin with. "
   ]
  }
 ],
 "metadata": {
  "kernelspec": {
   "display_name": "Python 3 (ipykernel)",
   "language": "python",
   "name": "python3"
  },
  "language_info": {
   "codemirror_mode": {
    "name": "ipython",
    "version": 3
   },
   "file_extension": ".py",
   "mimetype": "text/x-python",
   "name": "python",
   "nbconvert_exporter": "python",
   "pygments_lexer": "ipython3",
   "version": "3.11.3"
  }
 },
 "nbformat": 4,
 "nbformat_minor": 4
}
