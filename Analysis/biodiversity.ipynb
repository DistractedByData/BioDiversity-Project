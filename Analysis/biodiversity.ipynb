{
 "cells": [
  {
   "cell_type": "markdown",
   "metadata": {},
   "source": [
    "# Biodiversity in National Parks"
   ]
  },
  {
   "cell_type": "markdown",
   "metadata": {},
   "source": [
    "## Introduction:\n",
    "\n",
    "This is my second python project shared on Github. In it, I will explore and perform data analysis on the conservation status of 25,000 observed species from 2 datasets, sourced from the National Parks Service.\n",
    "\n",
    "### Goals:\n",
    "Here are a few questions to begin guiding my analysis - ultimatley, I will be looking to answer more questions as we begin exploring the data deeper.  \n",
    "\n",
    "- What is the distribution of `conservation_status` for animals?  \n",
    "- Are certain types of species more likely to be endangered?  \n",
    "- Are the differences between species and their conservation status significant?  \n",
    "- Which species were spotted the most at each park?"
   ]
  },
  {
   "cell_type": "markdown",
   "metadata": {},
   "source": [
    "**Below is documentation relating to both datasets, providing a brief description of each column; I find this to be very useful as a reference, and it is good to read before diving into a new dataset.**"
   ]
  },
  {
   "cell_type": "markdown",
   "metadata": {},
   "source": [
    "species_info.csv - contains data about different species and their conservation status.  \n",
    "`category` - class of animal  \n",
    "`scientific_name` - the scientific name of each species  \n",
    "`common_name` - the common names of each species  \n",
    "`conservation_status` - each species' current conservation status  \n",
    "\n",
    "observations.csv - holds recorded sightings of different species at several national parks for the past 7 days.  \n",
    "`scientific_name` - the scientific name of each species  \n",
    "`park_name` - park where species were found  \n",
    "`observations` - the number of times each species was observed at the park"
   ]
  },
  {
   "cell_type": "markdown",
   "metadata": {},
   "source": [
    "**Let's begin by importing a few libraries:**"
   ]
  },
  {
   "cell_type": "code",
   "execution_count": 1,
   "metadata": {},
   "outputs": [],
   "source": [
    "import pandas as pd\n",
    "import numpy as np\n",
    "import matplotlib.pyplot as plt\n",
    "import seaborn as sns"
   ]
  },
  {
   "cell_type": "markdown",
   "metadata": {},
   "source": [
    "## Load CSV Files: inspect first 10 rows."
   ]
  },
  {
   "cell_type": "markdown",
   "metadata": {},
   "source": [
    "**During my review of the column names, I have decided not to name the DataFrame 'Observations' due to the identical column name. To avoid confusion, I will instead use 'tracking' as a synonym instead of observations.** "
   ]
  },
  {
   "cell_type": "code",
   "execution_count": 2,
   "metadata": {},
   "outputs": [],
   "source": [
    "species_df = pd.read_csv(\"~/Desktop/GitHub/BioDiversity-Project/Analysis/species_info.csv\")\n",
    "tracking_df = pd.read_csv(\"~/Desktop/GitHub/BioDiversity-Project/Analysis/observations.csv\")"
   ]
  },
  {
   "cell_type": "code",
   "execution_count": 52,
   "metadata": {},
   "outputs": [
    {
     "data": {
      "text/html": [
       "<div>\n",
       "<style scoped>\n",
       "    .dataframe tbody tr th:only-of-type {\n",
       "        vertical-align: middle;\n",
       "    }\n",
       "\n",
       "    .dataframe tbody tr th {\n",
       "        vertical-align: top;\n",
       "    }\n",
       "\n",
       "    .dataframe thead th {\n",
       "        text-align: right;\n",
       "    }\n",
       "</style>\n",
       "<table border=\"1\" class=\"dataframe\">\n",
       "  <thead>\n",
       "    <tr style=\"text-align: right;\">\n",
       "      <th></th>\n",
       "      <th>category</th>\n",
       "      <th>scientific_name</th>\n",
       "      <th>common_names</th>\n",
       "      <th>conservation_status</th>\n",
       "    </tr>\n",
       "  </thead>\n",
       "  <tbody>\n",
       "    <tr>\n",
       "      <th>0</th>\n",
       "      <td>Mammal</td>\n",
       "      <td>Clethrionomys gapperi gapperi</td>\n",
       "      <td>Gapper's Red-Backed Vole</td>\n",
       "      <td>NaN</td>\n",
       "    </tr>\n",
       "    <tr>\n",
       "      <th>1</th>\n",
       "      <td>Mammal</td>\n",
       "      <td>Bos bison</td>\n",
       "      <td>American Bison, Bison</td>\n",
       "      <td>NaN</td>\n",
       "    </tr>\n",
       "    <tr>\n",
       "      <th>2</th>\n",
       "      <td>Mammal</td>\n",
       "      <td>Bos taurus</td>\n",
       "      <td>Aurochs, Aurochs, Domestic Cattle (Feral), Dom...</td>\n",
       "      <td>NaN</td>\n",
       "    </tr>\n",
       "    <tr>\n",
       "      <th>3</th>\n",
       "      <td>Mammal</td>\n",
       "      <td>Ovis aries</td>\n",
       "      <td>Domestic Sheep, Mouflon, Red Sheep, Sheep (Feral)</td>\n",
       "      <td>NaN</td>\n",
       "    </tr>\n",
       "    <tr>\n",
       "      <th>4</th>\n",
       "      <td>Mammal</td>\n",
       "      <td>Cervus elaphus</td>\n",
       "      <td>Wapiti Or Elk</td>\n",
       "      <td>NaN</td>\n",
       "    </tr>\n",
       "  </tbody>\n",
       "</table>\n",
       "</div>"
      ],
      "text/plain": [
       "  category                scientific_name  \\\n",
       "0   Mammal  Clethrionomys gapperi gapperi   \n",
       "1   Mammal                      Bos bison   \n",
       "2   Mammal                     Bos taurus   \n",
       "3   Mammal                     Ovis aries   \n",
       "4   Mammal                 Cervus elaphus   \n",
       "\n",
       "                                        common_names conservation_status  \n",
       "0                           Gapper's Red-Backed Vole                 NaN  \n",
       "1                              American Bison, Bison                 NaN  \n",
       "2  Aurochs, Aurochs, Domestic Cattle (Feral), Dom...                 NaN  \n",
       "3  Domestic Sheep, Mouflon, Red Sheep, Sheep (Feral)                 NaN  \n",
       "4                                      Wapiti Or Elk                 NaN  "
      ]
     },
     "execution_count": 52,
     "metadata": {},
     "output_type": "execute_result"
    }
   ],
   "source": [
    "species_df.head()"
   ]
  },
  {
   "cell_type": "code",
   "execution_count": 51,
   "metadata": {},
   "outputs": [
    {
     "data": {
      "text/html": [
       "<div>\n",
       "<style scoped>\n",
       "    .dataframe tbody tr th:only-of-type {\n",
       "        vertical-align: middle;\n",
       "    }\n",
       "\n",
       "    .dataframe tbody tr th {\n",
       "        vertical-align: top;\n",
       "    }\n",
       "\n",
       "    .dataframe thead th {\n",
       "        text-align: right;\n",
       "    }\n",
       "</style>\n",
       "<table border=\"1\" class=\"dataframe\">\n",
       "  <thead>\n",
       "    <tr style=\"text-align: right;\">\n",
       "      <th></th>\n",
       "      <th>scientific_name</th>\n",
       "      <th>park_name</th>\n",
       "      <th>observations</th>\n",
       "    </tr>\n",
       "  </thead>\n",
       "  <tbody>\n",
       "    <tr>\n",
       "      <th>0</th>\n",
       "      <td>Vicia benghalensis</td>\n",
       "      <td>Great Smoky Mountains National Park</td>\n",
       "      <td>68</td>\n",
       "    </tr>\n",
       "    <tr>\n",
       "      <th>1</th>\n",
       "      <td>Neovison vison</td>\n",
       "      <td>Great Smoky Mountains National Park</td>\n",
       "      <td>77</td>\n",
       "    </tr>\n",
       "    <tr>\n",
       "      <th>2</th>\n",
       "      <td>Prunus subcordata</td>\n",
       "      <td>Yosemite National Park</td>\n",
       "      <td>138</td>\n",
       "    </tr>\n",
       "    <tr>\n",
       "      <th>3</th>\n",
       "      <td>Abutilon theophrasti</td>\n",
       "      <td>Bryce National Park</td>\n",
       "      <td>84</td>\n",
       "    </tr>\n",
       "    <tr>\n",
       "      <th>4</th>\n",
       "      <td>Githopsis specularioides</td>\n",
       "      <td>Great Smoky Mountains National Park</td>\n",
       "      <td>85</td>\n",
       "    </tr>\n",
       "  </tbody>\n",
       "</table>\n",
       "</div>"
      ],
      "text/plain": [
       "            scientific_name                            park_name  observations\n",
       "0        Vicia benghalensis  Great Smoky Mountains National Park            68\n",
       "1            Neovison vison  Great Smoky Mountains National Park            77\n",
       "2         Prunus subcordata               Yosemite National Park           138\n",
       "3      Abutilon theophrasti                  Bryce National Park            84\n",
       "4  Githopsis specularioides  Great Smoky Mountains National Park            85"
      ]
     },
     "execution_count": 51,
     "metadata": {},
     "output_type": "execute_result"
    }
   ],
   "source": [
    "tracking_df.head()"
   ]
  },
  {
   "cell_type": "markdown",
   "metadata": {},
   "source": [
    "## Digging into the missing data."
   ]
  },
  {
   "cell_type": "markdown",
   "metadata": {},
   "source": [
    "Above, I saw a high proportion of NaN values in the  species_df immediately, which will need to be better understood why. *I also see that both df's contain the column `scientific_name` which may be useful to act as a primary key, linking both tables by a shared relation.*\n",
    "\n",
    "**Now I will continue exploring the data while looking more into each column to see if any others contain NaN, or other possible issues that could be addressed with data cleaning.**"
   ]
  },
  {
   "cell_type": "code",
   "execution_count": 11,
   "metadata": {},
   "outputs": [
    {
     "data": {
      "text/plain": [
       "(Index(['category', 'scientific_name', 'common_names', 'conservation_status'], dtype='object'),\n",
       " (5824, 4))"
      ]
     },
     "execution_count": 11,
     "metadata": {},
     "output_type": "execute_result"
    }
   ],
   "source": [
    "species_df_shape = species_df.columns, species_df.shape\n",
    "species_df_shape"
   ]
  },
  {
   "cell_type": "code",
   "execution_count": 12,
   "metadata": {},
   "outputs": [
    {
     "data": {
      "text/plain": [
       "(Index(['scientific_name', 'park_name', 'observations'], dtype='object'),\n",
       " (23296, 3))"
      ]
     },
     "execution_count": 12,
     "metadata": {},
     "output_type": "execute_result"
    }
   ],
   "source": [
    "tracking_df_shape = tracking_df.columns, tracking_df.shape\n",
    "tracking_df_shape "
   ]
  },
  {
   "cell_type": "code",
   "execution_count": 13,
   "metadata": {},
   "outputs": [
    {
     "data": {
      "text/plain": [
       "conservation_status    5633\n",
       "category                  0\n",
       "scientific_name           0\n",
       "common_names              0\n",
       "dtype: int64"
      ]
     },
     "execution_count": 13,
     "metadata": {},
     "output_type": "execute_result"
    }
   ],
   "source": [
    "species_null = species_df.isnull().sum().sort_values(ascending=False)\n",
    "species_null"
   ]
  },
  {
   "cell_type": "code",
   "execution_count": 14,
   "metadata": {},
   "outputs": [
    {
     "data": {
      "text/plain": [
       "scientific_name    0\n",
       "park_name          0\n",
       "observations       0\n",
       "dtype: int64"
      ]
     },
     "execution_count": 14,
     "metadata": {},
     "output_type": "execute_result"
    }
   ],
   "source": [
    "tracking_null = tracking_df.isnull().sum().sort_values(ascending=False)\n",
    "tracking_null"
   ]
  },
  {
   "cell_type": "markdown",
   "metadata": {},
   "source": [
    "**Diving deeper into the only column with null values, I want to know if the missing values are: systematic, MAR, MCAR, or MNAR? Without much domain knowledge, I will need to look closer.**"
   ]
  },
  {
   "cell_type": "code",
   "execution_count": 18,
   "metadata": {},
   "outputs": [
    {
     "name": "stdout",
     "output_type": "stream",
     "text": [
      "conservation_types: [nan 'Species of Concern' 'Endangered' 'Threatened' 'In Recovery']\n"
     ]
    },
    {
     "data": {
      "text/plain": [
       "Species of Concern    161\n",
       "Endangered             16\n",
       "Threatened             10\n",
       "In Recovery             4\n",
       "Name: conservation_status, dtype: int64"
      ]
     },
     "execution_count": 18,
     "metadata": {},
     "output_type": "execute_result"
    }
   ],
   "source": [
    "conservation_types = species_df['conservation_status'].unique()\n",
    "print(\"conservation_types:\", conservation_types)\n",
    "species_df['conservation_status'].value_counts()"
   ]
  },
  {
   "cell_type": "markdown",
   "metadata": {},
   "source": [
    "**It seems the missing values are a result of no label being assigned if the species is not either a: species of concern, endangered, threatened, or in recovery.**\n",
    "**This tells me the NaN values are systematically missing. When values are systematically missing, there is no need to fill the null values or delete the rows. But, I would like to modify their label so I can perform better analysis, such as computing summary statistic - I will modify NaN values to 'Healthy' indicating that the species at large is not considered at risk.**"
   ]
  },
  {
   "cell_type": "markdown",
   "metadata": {},
   "source": [
    "### Now we can look into any duplicate rows."
   ]
  },
  {
   "cell_type": "code",
   "execution_count": 9,
   "metadata": {},
   "outputs": [
    {
     "data": {
      "text/plain": [
       "(0, 15)"
      ]
     },
     "execution_count": 9,
     "metadata": {},
     "output_type": "execute_result"
    }
   ],
   "source": [
    "species_df.duplicated().sum(), tracking_df.duplicated().sum()"
   ]
  }
 ],
 "metadata": {
  "kernelspec": {
   "display_name": "Python 3 (ipykernel)",
   "language": "python",
   "name": "python3"
  },
  "language_info": {
   "codemirror_mode": {
    "name": "ipython",
    "version": 3
   },
   "file_extension": ".py",
   "mimetype": "text/x-python",
   "name": "python",
   "nbconvert_exporter": "python",
   "pygments_lexer": "ipython3",
   "version": "3.9.13"
  }
 },
 "nbformat": 4,
 "nbformat_minor": 4
}
